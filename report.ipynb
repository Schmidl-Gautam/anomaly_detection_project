{
 "cells": [
  {
   "cell_type": "markdown",
   "metadata": {},
   "source": [
    "## Curriculum Logs Anomaly Detection\n",
    "By: Scott Schmidl, Rajaram Gautam\n",
    "01/31/2022\n",
    "\n",
    "### Goal\n",
    "\n",
    "\n",
    "### Description\n",
    "\n",
    "\n",
    "### Initial Questions\n",
    "<p>1. Which lesson appears to attract the most traffic consistently across cohorts (per program)?</p>\n",
    "<p>2. Is there a cohort that referred to a lesson significantly more than other cohorts seemed to gloss over?</p>\n",
    "<p>3. Are there students who, when active, hardly access the curriculum? If so, what information do you have about these students?</p>\n",
    "<p>4. Is there any suspicious activity, such as users/machines/etc accessing the curriculum who shouldn’t be? Does it appear that any web-scraping is happening? Are there any suspicious IP addresses?</p>\n",
    "<p>5. At some point in 2019, the ability for students and alumni to access both curriculums (web dev to ds, ds to web dev) should have been shut off. Do you see any evidence of that happening? Did it happen before?</p>\n",
    "<p>6. What topics are grads continuing to reference after graduation and into their jobs (for each program)?</p>\n",
    "<p>7. Which lessons are least accessed?</p>\n",
    "\n",
    "### Data Dictionary\n",
    "<table>\n",
    "<thead><tr>\n",
    "<th>Variable</th>\n",
    "<th>Meaning</th>\n",
    "</tr>\n",
    "</thead>\n",
    "<tbody>\n",
    "<tr>\n",
    "<td>path</td>\n",
    "<td>The lesson that was accessed</td>\n",
    "</tr>\n",
    "<tr>\n",
    "<td>user_id</td>\n",
    "<td>id of the user</td>\n",
    "</tr>\n",
    "<tr>\n",
    "<td>cohort_id</td>\n",
    "<td>id of the cohort</td>\n",
    "</tr>\n",
    "<tr>\n",
    "<td>ip</td>\n",
    "<td>ip address of the user</td>\n",
    "</tr>\n",
    "<tr>\n",
    "<td>name</td>\n",
    "<td>name of cohort</td>\n",
    "</tr>\n",
    "<tr>\n",
    "<td>slack</td>\n",
    "<td>slack channel name</td>\n",
    "</tr>\n",
    "<tr>\n",
    "<td>start_date</td>\n",
    "<td>start date of cohort</td>\n",
    "</tr>\n",
    "<tr>\n",
    "<td>end_date</td>\n",
    "<td>end date of cohort</td>\n",
    "</tr>\n",
    "<tr>\n",
    "<td>created_at</td>\n",
    "<td>date time cohort information was entered into database</td>\n",
    "</tr>\n",
    "<tr>\n",
    "<td>updated_at</td>\n",
    "<td>date time cohort information was updated</td>\n",
    "</tr>\n",
    "<tr>\n",
    "<td>deleted_at</td>\n",
    "<td>date time cohort information was deleted</td>\n",
    "</tr>\n",
    "<tr>\n",
    "<td>program_id</td>\n",
    "<td>id of the program</td>\n",
    "</tr>\n",
    "<tr>\n",
    "<td>program_name</td>\n",
    "<td>name of program, either web dev or data science</td>\n",
    "</tr>\n",
    "</tbody>\n",
    "</table>\n",
    "\n",
    "### Wrangling and Prepare\n",
    "- To wrangle the curriculum logs, we used the curriculum logs database in our MySQL server and saved it to a CSV.\n",
    "- To prepare the data we performed some feature engineering to create date time columns and program_name"
   ]
  },
  {
   "cell_type": "code",
   "execution_count": 8,
   "metadata": {},
   "outputs": [],
   "source": [
    "# imports\n",
    "from wrangle import Wrangle\n",
    "import pandas as pd\n",
    "\n",
    "# get and prep Scott's data\n",
    "logs = Wrangle().prep_data()\n",
    "\n",
    "# get and prep Rajaram's work\n",
    "cur_df = Wrangle().get_work()"
   ]
  },
  {
   "cell_type": "markdown",
   "metadata": {},
   "source": [
    "### Exploratory Data Analysis"
   ]
  },
  {
   "cell_type": "markdown",
   "metadata": {},
   "source": [
    "### Question 1\n",
    "- Which lesson appears to attract the most traffic consistently across cohorts (per program)?"
   ]
  },
  {
   "cell_type": "code",
   "execution_count": 9,
   "metadata": {},
   "outputs": [
    {
     "data": {
      "image/png": "[encoded data removed]",
      "text/plain": [
       "<Figure size 432x288 with 1 Axes>"
      ]
     },
     "metadata": {
      "needs_background": "light"
     },
     "output_type": "display_data"
    },
    {
     "data": {
      "text/html": [
       "<div>\n",
       "<style scoped>\n",
       "    .dataframe tbody tr th:only-of-type {\n",
       "        vertical-align: middle;\n",
       "    }\n",
       "\n",
       "    .dataframe tbody tr th {\n",
       "        vertical-align: top;\n",
       "    }\n",
       "\n",
       "    .dataframe thead th {\n",
       "        text-align: right;\n",
       "    }\n",
       "</style>\n",
       "<table border=\"1\" class=\"dataframe\">\n",
       "  <thead>\n",
       "    <tr style=\"text-align: right;\">\n",
       "      <th></th>\n",
       "      <th>path</th>\n",
       "    </tr>\n",
       "  </thead>\n",
       "  <tbody>\n",
       "    <tr>\n",
       "      <th>classification/overview</th>\n",
       "      <td>1785</td>\n",
       "    </tr>\n",
       "    <tr>\n",
       "      <th>1-fundamentals/1.1-intro-to-data-science</th>\n",
       "      <td>1633</td>\n",
       "    </tr>\n",
       "    <tr>\n",
       "      <th>sql/mysql-overview</th>\n",
       "      <td>1424</td>\n",
       "    </tr>\n",
       "    <tr>\n",
       "      <th>fundamentals/intro-to-data-science</th>\n",
       "      <td>1413</td>\n",
       "    </tr>\n",
       "    <tr>\n",
       "      <th>6-regression/1-overview</th>\n",
       "      <td>1124</td>\n",
       "    </tr>\n",
       "  </tbody>\n",
       "</table>\n",
       "</div>"
      ],
      "text/plain": [
       "                                          path\n",
       "classification/overview                   1785\n",
       "1-fundamentals/1.1-intro-to-data-science  1633\n",
       "sql/mysql-overview                        1424\n",
       "fundamentals/intro-to-data-science        1413\n",
       "6-regression/1-overview                   1124"
      ]
     },
     "execution_count": 9,
     "metadata": {},
     "output_type": "execute_result"
    }
   ],
   "source": [
    "# import viz\n",
    "import seaborn as sns\n",
    "import matplotlib.pyplot as plt\n",
    "\n",
    "# Removing all the paths that are not a lesson\n",
    "lesson = cur_df.copy()\n",
    "lesson = lesson[lesson.path.str.endswith('jpg') == False]\n",
    "lesson = lesson[lesson.path.str.endswith('jpeg') == False]\n",
    "lesson = lesson[lesson.path.str.endswith('svg') == False]\n",
    "lesson = lesson[(lesson.path != '/') & (lesson.path != 'search/search_index.json') \n",
    "                & (lesson.path != 'toc') & (lesson.path != 'appendix')]\n",
    "lesson = lesson.set_index(\"date_time\")\n",
    "\n",
    "# Top lessons for Data Science\n",
    "top_course_lessons = pd.DataFrame(lesson[lesson.course_subdomain == 'ds'].path.value_counts().head(5))\n",
    "plt.figure(figsize=(6, 4))\n",
    "sns.barplot(data=top_course_lessons,\n",
    "x=\"path\", y=top_course_lessons.index, palette=\"ch:s=.25,rot=-.25\", )\n",
    "plt.title('Top Lessons for Data Science')\n",
    "plt.xlabel('Access Count')\n",
    "plt.ylabel('Lesson')\n",
    "plt.show()\n",
    "top_course_lessons"
   ]
  },
  {
   "cell_type": "code",
   "execution_count": 10,
   "metadata": {},
   "outputs": [
    {
     "data": {
      "image/png": "[encoded data removed]",
      "text/plain": [
       "<Figure size 432x288 with 1 Axes>"
      ]
     },
     "metadata": {
      "needs_background": "light"
     },
     "output_type": "display_data"
    },
    {
     "data": {
      "text/html": [
       "<div>\n",
       "<style scoped>\n",
       "    .dataframe tbody tr th:only-of-type {\n",
       "        vertical-align: middle;\n",
       "    }\n",
       "\n",
       "    .dataframe tbody tr th {\n",
       "        vertical-align: top;\n",
       "    }\n",
       "\n",
       "    .dataframe thead th {\n",
       "        text-align: right;\n",
       "    }\n",
       "</style>\n",
       "<table border=\"1\" class=\"dataframe\">\n",
       "  <thead>\n",
       "    <tr style=\"text-align: right;\">\n",
       "      <th></th>\n",
       "      <th>path</th>\n",
       "    </tr>\n",
       "  </thead>\n",
       "  <tbody>\n",
       "    <tr>\n",
       "      <th>javascript-i</th>\n",
       "      <td>18193</td>\n",
       "    </tr>\n",
       "    <tr>\n",
       "      <th>java-iii</th>\n",
       "      <td>13162</td>\n",
       "    </tr>\n",
       "    <tr>\n",
       "      <th>html-css</th>\n",
       "      <td>13111</td>\n",
       "    </tr>\n",
       "    <tr>\n",
       "      <th>java-ii</th>\n",
       "      <td>12173</td>\n",
       "    </tr>\n",
       "    <tr>\n",
       "      <th>spring</th>\n",
       "      <td>11877</td>\n",
       "    </tr>\n",
       "  </tbody>\n",
       "</table>\n",
       "</div>"
      ],
      "text/plain": [
       "               path\n",
       "javascript-i  18193\n",
       "java-iii      13162\n",
       "html-css      13111\n",
       "java-ii       12173\n",
       "spring        11877"
      ]
     },
     "execution_count": 10,
     "metadata": {},
     "output_type": "execute_result"
    }
   ],
   "source": [
    "# Top lessons for all Web Dev\n",
    "top_course_lessons = pd.DataFrame(lesson[lesson.course_subdomain != 'ds'].path.value_counts().head(5))\n",
    "plt.figure(figsize=(6, 4))\n",
    "sns.barplot(data=top_course_lessons,\n",
    "x=\"path\", y=top_course_lessons.index, palette=\"ch:s=.25,rot=-.25\", )\n",
    "plt.title('Top Lessons for all of Web Dev')\n",
    "plt.xlabel('Access Count')\n",
    "plt.ylabel('Lesson')\n",
    "plt.show()\n",
    "top_course_lessons"
   ]
  },
  {
   "cell_type": "markdown",
   "metadata": {},
   "source": [
    "### Take Away\n",
    "- Data Science top courses: classification/overview, fundamentals/1.1-intro-to-data-science, sql/mysql-overview, fundamentals/intro-to-data-science, and 6-regression/1-overview\n",
    "- Web Dev top courses: javascript-i, java-iii, html-css, java-ii, spring"
   ]
  },
  {
   "cell_type": "markdown",
   "metadata": {},
   "source": [
    "### Question 2\n",
    "- Is there a cohort that referred to a lesson significantly more than other cohorts seemed to gloss over?"
   ]
  },
  {
   "cell_type": "code",
   "execution_count": 2,
   "metadata": {},
   "outputs": [
    {
     "data": {
      "text/html": [
       "<div>\n",
       "<style scoped>\n",
       "    .dataframe tbody tr th:only-of-type {\n",
       "        vertical-align: middle;\n",
       "    }\n",
       "\n",
       "    .dataframe tbody tr th {\n",
       "        vertical-align: top;\n",
       "    }\n",
       "\n",
       "    .dataframe thead th {\n",
       "        text-align: right;\n",
       "    }\n",
       "</style>\n",
       "<table border=\"1\" class=\"dataframe\">\n",
       "  <thead>\n",
       "    <tr style=\"text-align: right;\">\n",
       "      <th></th>\n",
       "      <th>path</th>\n",
       "    </tr>\n",
       "    <tr>\n",
       "      <th>name</th>\n",
       "      <th></th>\n",
       "    </tr>\n",
       "  </thead>\n",
       "  <tbody>\n",
       "    <tr>\n",
       "      <th>Ceres</th>\n",
       "      <td>40730</td>\n",
       "    </tr>\n",
       "    <tr>\n",
       "      <th>Zion</th>\n",
       "      <td>38096</td>\n",
       "    </tr>\n",
       "    <tr>\n",
       "      <th>Jupiter</th>\n",
       "      <td>37109</td>\n",
       "    </tr>\n",
       "    <tr>\n",
       "      <th>Fortuna</th>\n",
       "      <td>36902</td>\n",
       "    </tr>\n",
       "    <tr>\n",
       "      <th>Voyageurs</th>\n",
       "      <td>35636</td>\n",
       "    </tr>\n",
       "    <tr>\n",
       "      <th>Ganymede</th>\n",
       "      <td>33844</td>\n",
       "    </tr>\n",
       "    <tr>\n",
       "      <th>Apex</th>\n",
       "      <td>33568</td>\n",
       "    </tr>\n",
       "    <tr>\n",
       "      <th>Deimos</th>\n",
       "      <td>32888</td>\n",
       "    </tr>\n",
       "    <tr>\n",
       "      <th>Darden</th>\n",
       "      <td>32015</td>\n",
       "    </tr>\n",
       "    <tr>\n",
       "      <th>Teddy</th>\n",
       "      <td>30926</td>\n",
       "    </tr>\n",
       "  </tbody>\n",
       "</table>\n",
       "</div>"
      ],
      "text/plain": [
       "            path\n",
       "name            \n",
       "Ceres      40730\n",
       "Zion       38096\n",
       "Jupiter    37109\n",
       "Fortuna    36902\n",
       "Voyageurs  35636\n",
       "Ganymede   33844\n",
       "Apex       33568\n",
       "Deimos     32888\n",
       "Darden     32015\n",
       "Teddy      30926"
      ]
     },
     "execution_count": 2,
     "metadata": {},
     "output_type": "execute_result"
    }
   ],
   "source": [
    "# get name and path count of cohorts that accessed curriculum the most\n",
    "logs[[\"name\", \"path\"]][logs[\"name\"] != \"Staff\"].groupby(by=[\"name\"], sort=False).count().nlargest(n=10, columns=\"path\", keep=\"first\")"
   ]
  },
  {
   "cell_type": "markdown",
   "metadata": {},
   "source": [
    "### Take Away\n",
    "- These are the top 10 cohorts who accessed the curriculum the most."
   ]
  },
  {
   "cell_type": "markdown",
   "metadata": {},
   "source": [
    "### Question 3\n",
    "- Are there students who, when active, hardly access the curriculum? If so, what information do you have about these students?"
   ]
  },
  {
   "cell_type": "code",
   "execution_count": 3,
   "metadata": {},
   "outputs": [
    {
     "data": {
      "text/html": [
       "<div>\n",
       "<style scoped>\n",
       "    .dataframe tbody tr th:only-of-type {\n",
       "        vertical-align: middle;\n",
       "    }\n",
       "\n",
       "    .dataframe tbody tr th {\n",
       "        vertical-align: top;\n",
       "    }\n",
       "\n",
       "    .dataframe thead th {\n",
       "        text-align: right;\n",
       "    }\n",
       "</style>\n",
       "<table border=\"1\" class=\"dataframe\">\n",
       "  <thead>\n",
       "    <tr style=\"text-align: right;\">\n",
       "      <th></th>\n",
       "      <th>path</th>\n",
       "    </tr>\n",
       "    <tr>\n",
       "      <th>user_id</th>\n",
       "      <th></th>\n",
       "    </tr>\n",
       "  </thead>\n",
       "  <tbody>\n",
       "    <tr>\n",
       "      <th>619</th>\n",
       "      <td>1</td>\n",
       "    </tr>\n",
       "    <tr>\n",
       "      <th>879</th>\n",
       "      <td>1</td>\n",
       "    </tr>\n",
       "    <tr>\n",
       "      <th>918</th>\n",
       "      <td>1</td>\n",
       "    </tr>\n",
       "    <tr>\n",
       "      <th>940</th>\n",
       "      <td>1</td>\n",
       "    </tr>\n",
       "    <tr>\n",
       "      <th>832</th>\n",
       "      <td>3</td>\n",
       "    </tr>\n",
       "    <tr>\n",
       "      <th>278</th>\n",
       "      <td>4</td>\n",
       "    </tr>\n",
       "    <tr>\n",
       "      <th>539</th>\n",
       "      <td>5</td>\n",
       "    </tr>\n",
       "    <tr>\n",
       "      <th>956</th>\n",
       "      <td>6</td>\n",
       "    </tr>\n",
       "    <tr>\n",
       "      <th>812</th>\n",
       "      <td>7</td>\n",
       "    </tr>\n",
       "    <tr>\n",
       "      <th>388</th>\n",
       "      <td>8</td>\n",
       "    </tr>\n",
       "  </tbody>\n",
       "</table>\n",
       "</div>"
      ],
      "text/plain": [
       "         path\n",
       "user_id      \n",
       "619         1\n",
       "879         1\n",
       "918         1\n",
       "940         1\n",
       "832         3\n",
       "278         4\n",
       "539         5\n",
       "956         6\n",
       "812         7\n",
       "388         8"
      ]
     },
     "execution_count": 3,
     "metadata": {},
     "output_type": "execute_result"
    }
   ],
   "source": [
    "# create variables for if person was a current student or staff\n",
    "was_student = (logs.index < logs[\"end_date\"]) & (logs.index > logs[\"start_date\"])\n",
    "not_staff = (logs[\"name\"] != \"Staff\")\n",
    "\n",
    "# students that hardly access the curriculum\n",
    "logs[[\"user_id\", \"path\"]][was_student & not_staff].groupby(by=[\"user_id\"], sort=False).count().nsmallest(n=10, columns=\"path\", keep=\"first\")"
   ]
  },
  {
   "cell_type": "markdown",
   "metadata": {},
   "source": [
    "### Take Away\n",
    "- These students were active students and not staff. These are the 10 students whom accessed the curriculum the fewest."
   ]
  },
  {
   "cell_type": "markdown",
   "metadata": {},
   "source": [
    "### Question 4\n",
    "- Is there any suspicious activity, such as users/machines/etc accessing the curriculum who shouldn’t be? Does it appear that any web-scraping is happening? Are there any suspicious IP addresses?\n"
   ]
  },
  {
   "cell_type": "code",
   "execution_count": 11,
   "metadata": {},
   "outputs": [
    {
     "data": {
      "text/plain": [
       "ip\n",
       "97.105.19.58    241019\n",
       "97.105.19.61     56968\n",
       "Name: path, dtype: int64"
      ]
     },
     "execution_count": 11,
     "metadata": {},
     "output_type": "execute_result"
    }
   ],
   "source": [
    "# organizing accessions by ip address\n",
    "group_based_ip = lesson.groupby('ip').count()['path'].sort_values(ascending = False)\n",
    "\n",
    "# defining multiplier\n",
    "k = 3\n",
    "\n",
    "# ip addressses whose activity is 3 standard deviations above the mean\n",
    "anomalos_ip = group_based_ip[group_based_ip > (group_based_ip.mean() + k * group_based_ip.std())]\n",
    "anomalos_ip"
   ]
  },
  {
   "cell_type": "code",
   "execution_count": 12,
   "metadata": {},
   "outputs": [
    {
     "data": {
      "text/html": [
       "<div>\n",
       "<style scoped>\n",
       "    .dataframe tbody tr th:only-of-type {\n",
       "        vertical-align: middle;\n",
       "    }\n",
       "\n",
       "    .dataframe tbody tr th {\n",
       "        vertical-align: top;\n",
       "    }\n",
       "\n",
       "    .dataframe thead th {\n",
       "        text-align: right;\n",
       "    }\n",
       "</style>\n",
       "<table border=\"1\" class=\"dataframe\">\n",
       "  <thead>\n",
       "    <tr style=\"text-align: right;\">\n",
       "      <th></th>\n",
       "      <th>path</th>\n",
       "      <th>user_id</th>\n",
       "      <th>cohort_id</th>\n",
       "      <th>ip</th>\n",
       "      <th>name</th>\n",
       "      <th>slack</th>\n",
       "      <th>start_date</th>\n",
       "      <th>end_date</th>\n",
       "      <th>created_at</th>\n",
       "      <th>updated_at</th>\n",
       "      <th>program_id</th>\n",
       "      <th>id</th>\n",
       "      <th>course_name</th>\n",
       "      <th>course_subdomain</th>\n",
       "      <th>date_time</th>\n",
       "      <th>date_year</th>\n",
       "      <th>date_month</th>\n",
       "      <th>date_weekday</th>\n",
       "      <th>hour</th>\n",
       "    </tr>\n",
       "  </thead>\n",
       "  <tbody>\n",
       "    <tr>\n",
       "      <th>82285</th>\n",
       "      <td>javascript-ii/promises</td>\n",
       "      <td>211</td>\n",
       "      <td>1</td>\n",
       "      <td>97.105.19.58</td>\n",
       "      <td>Arches</td>\n",
       "      <td>#arches</td>\n",
       "      <td>2014-02-04</td>\n",
       "      <td>2014-04-22</td>\n",
       "      <td>2016-06-14 19:52:26</td>\n",
       "      <td>2016-06-14 19:52:26</td>\n",
       "      <td>1</td>\n",
       "      <td>1</td>\n",
       "      <td>PHP Full Stack Web Dev</td>\n",
       "      <td>php</td>\n",
       "      <td>2018-07-16 07:51:57</td>\n",
       "      <td>2018</td>\n",
       "      <td>July</td>\n",
       "      <td>Monday</td>\n",
       "      <td>7</td>\n",
       "    </tr>\n",
       "    <tr>\n",
       "      <th>82286</th>\n",
       "      <td>javascript-ii/map-filter-reduce</td>\n",
       "      <td>211</td>\n",
       "      <td>1</td>\n",
       "      <td>97.105.19.58</td>\n",
       "      <td>Arches</td>\n",
       "      <td>#arches</td>\n",
       "      <td>2014-02-04</td>\n",
       "      <td>2014-04-22</td>\n",
       "      <td>2016-06-14 19:52:26</td>\n",
       "      <td>2016-06-14 19:52:26</td>\n",
       "      <td>1</td>\n",
       "      <td>1</td>\n",
       "      <td>PHP Full Stack Web Dev</td>\n",
       "      <td>php</td>\n",
       "      <td>2018-07-16 07:58:03</td>\n",
       "      <td>2018</td>\n",
       "      <td>July</td>\n",
       "      <td>Monday</td>\n",
       "      <td>7</td>\n",
       "    </tr>\n",
       "    <tr>\n",
       "      <th>82287</th>\n",
       "      <td>javascript-ii/promises</td>\n",
       "      <td>211</td>\n",
       "      <td>1</td>\n",
       "      <td>97.105.19.58</td>\n",
       "      <td>Arches</td>\n",
       "      <td>#arches</td>\n",
       "      <td>2014-02-04</td>\n",
       "      <td>2014-04-22</td>\n",
       "      <td>2016-06-14 19:52:26</td>\n",
       "      <td>2016-06-14 19:52:26</td>\n",
       "      <td>1</td>\n",
       "      <td>1</td>\n",
       "      <td>PHP Full Stack Web Dev</td>\n",
       "      <td>php</td>\n",
       "      <td>2018-07-16 07:59:50</td>\n",
       "      <td>2018</td>\n",
       "      <td>July</td>\n",
       "      <td>Monday</td>\n",
       "      <td>7</td>\n",
       "    </tr>\n",
       "    <tr>\n",
       "      <th>82288</th>\n",
       "      <td>index.html</td>\n",
       "      <td>53</td>\n",
       "      <td>14</td>\n",
       "      <td>97.105.19.58</td>\n",
       "      <td>Lassen</td>\n",
       "      <td>#lassen</td>\n",
       "      <td>2016-07-18</td>\n",
       "      <td>2016-11-10</td>\n",
       "      <td>2016-07-18 19:06:27</td>\n",
       "      <td>2016-07-18 19:06:27</td>\n",
       "      <td>1</td>\n",
       "      <td>1</td>\n",
       "      <td>PHP Full Stack Web Dev</td>\n",
       "      <td>php</td>\n",
       "      <td>2018-07-16 08:07:37</td>\n",
       "      <td>2018</td>\n",
       "      <td>July</td>\n",
       "      <td>Monday</td>\n",
       "      <td>8</td>\n",
       "    </tr>\n",
       "    <tr>\n",
       "      <th>82289</th>\n",
       "      <td>javascript-ii</td>\n",
       "      <td>53</td>\n",
       "      <td>14</td>\n",
       "      <td>97.105.19.58</td>\n",
       "      <td>Lassen</td>\n",
       "      <td>#lassen</td>\n",
       "      <td>2016-07-18</td>\n",
       "      <td>2016-11-10</td>\n",
       "      <td>2016-07-18 19:06:27</td>\n",
       "      <td>2016-07-18 19:06:27</td>\n",
       "      <td>1</td>\n",
       "      <td>1</td>\n",
       "      <td>PHP Full Stack Web Dev</td>\n",
       "      <td>php</td>\n",
       "      <td>2018-07-16 08:07:41</td>\n",
       "      <td>2018</td>\n",
       "      <td>July</td>\n",
       "      <td>Monday</td>\n",
       "      <td>8</td>\n",
       "    </tr>\n",
       "  </tbody>\n",
       "</table>\n",
       "</div>"
      ],
      "text/plain": [
       "                                  path  user_id  cohort_id            ip  \\\n",
       "82285           javascript-ii/promises      211          1  97.105.19.58   \n",
       "82286  javascript-ii/map-filter-reduce      211          1  97.105.19.58   \n",
       "82287           javascript-ii/promises      211          1  97.105.19.58   \n",
       "82288                       index.html       53         14  97.105.19.58   \n",
       "82289                    javascript-ii       53         14  97.105.19.58   \n",
       "\n",
       "         name    slack start_date   end_date          created_at  \\\n",
       "82285  Arches  #arches 2014-02-04 2014-04-22 2016-06-14 19:52:26   \n",
       "82286  Arches  #arches 2014-02-04 2014-04-22 2016-06-14 19:52:26   \n",
       "82287  Arches  #arches 2014-02-04 2014-04-22 2016-06-14 19:52:26   \n",
       "82288  Lassen  #lassen 2016-07-18 2016-11-10 2016-07-18 19:06:27   \n",
       "82289  Lassen  #lassen 2016-07-18 2016-11-10 2016-07-18 19:06:27   \n",
       "\n",
       "               updated_at  program_id  id             course_name  \\\n",
       "82285 2016-06-14 19:52:26           1   1  PHP Full Stack Web Dev   \n",
       "82286 2016-06-14 19:52:26           1   1  PHP Full Stack Web Dev   \n",
       "82287 2016-06-14 19:52:26           1   1  PHP Full Stack Web Dev   \n",
       "82288 2016-07-18 19:06:27           1   1  PHP Full Stack Web Dev   \n",
       "82289 2016-07-18 19:06:27           1   1  PHP Full Stack Web Dev   \n",
       "\n",
       "      course_subdomain           date_time  date_year date_month date_weekday  \\\n",
       "82285              php 2018-07-16 07:51:57       2018       July       Monday   \n",
       "82286              php 2018-07-16 07:58:03       2018       July       Monday   \n",
       "82287              php 2018-07-16 07:59:50       2018       July       Monday   \n",
       "82288              php 2018-07-16 08:07:37       2018       July       Monday   \n",
       "82289              php 2018-07-16 08:07:41       2018       July       Monday   \n",
       "\n",
       "       hour  \n",
       "82285     7  \n",
       "82286     7  \n",
       "82287     7  \n",
       "82288     8  \n",
       "82289     8  "
      ]
     },
     "execution_count": 12,
     "metadata": {},
     "output_type": "execute_result"
    }
   ],
   "source": [
    "# Let us look at all the records visited by that first ip\n",
    "lesson[lesson.ip == '97.105.19.58'].head()"
   ]
  },
  {
   "cell_type": "code",
   "execution_count": 13,
   "metadata": {},
   "outputs": [
    {
     "data": {
      "text/html": [
       "<div>\n",
       "<style scoped>\n",
       "    .dataframe tbody tr th:only-of-type {\n",
       "        vertical-align: middle;\n",
       "    }\n",
       "\n",
       "    .dataframe tbody tr th {\n",
       "        vertical-align: top;\n",
       "    }\n",
       "\n",
       "    .dataframe thead th {\n",
       "        text-align: right;\n",
       "    }\n",
       "</style>\n",
       "<table border=\"1\" class=\"dataframe\">\n",
       "  <thead>\n",
       "    <tr style=\"text-align: right;\">\n",
       "      <th></th>\n",
       "      <th>path</th>\n",
       "      <th>user_id</th>\n",
       "      <th>cohort_id</th>\n",
       "      <th>ip</th>\n",
       "      <th>name</th>\n",
       "      <th>slack</th>\n",
       "      <th>start_date</th>\n",
       "      <th>end_date</th>\n",
       "      <th>created_at</th>\n",
       "      <th>updated_at</th>\n",
       "      <th>program_id</th>\n",
       "      <th>id</th>\n",
       "      <th>course_name</th>\n",
       "      <th>course_subdomain</th>\n",
       "      <th>date_time</th>\n",
       "      <th>date_year</th>\n",
       "      <th>date_month</th>\n",
       "      <th>date_weekday</th>\n",
       "      <th>hour</th>\n",
       "    </tr>\n",
       "  </thead>\n",
       "  <tbody>\n",
       "    <tr>\n",
       "      <th>1</th>\n",
       "      <td>java-ii</td>\n",
       "      <td>1</td>\n",
       "      <td>8</td>\n",
       "      <td>97.105.19.61</td>\n",
       "      <td>Hampton</td>\n",
       "      <td>#hampton</td>\n",
       "      <td>2015-09-22</td>\n",
       "      <td>2016-02-06</td>\n",
       "      <td>2016-06-14 19:52:26</td>\n",
       "      <td>2016-06-14 19:52:26</td>\n",
       "      <td>1</td>\n",
       "      <td>1</td>\n",
       "      <td>PHP Full Stack Web Dev</td>\n",
       "      <td>php</td>\n",
       "      <td>2018-01-26 09:56:02</td>\n",
       "      <td>2018</td>\n",
       "      <td>January</td>\n",
       "      <td>Friday</td>\n",
       "      <td>9</td>\n",
       "    </tr>\n",
       "    <tr>\n",
       "      <th>2</th>\n",
       "      <td>java-ii/object-oriented-programming</td>\n",
       "      <td>1</td>\n",
       "      <td>8</td>\n",
       "      <td>97.105.19.61</td>\n",
       "      <td>Hampton</td>\n",
       "      <td>#hampton</td>\n",
       "      <td>2015-09-22</td>\n",
       "      <td>2016-02-06</td>\n",
       "      <td>2016-06-14 19:52:26</td>\n",
       "      <td>2016-06-14 19:52:26</td>\n",
       "      <td>1</td>\n",
       "      <td>1</td>\n",
       "      <td>PHP Full Stack Web Dev</td>\n",
       "      <td>php</td>\n",
       "      <td>2018-01-26 09:56:05</td>\n",
       "      <td>2018</td>\n",
       "      <td>January</td>\n",
       "      <td>Friday</td>\n",
       "      <td>9</td>\n",
       "    </tr>\n",
       "    <tr>\n",
       "      <th>3</th>\n",
       "      <td>slides/object_oriented_programming</td>\n",
       "      <td>1</td>\n",
       "      <td>8</td>\n",
       "      <td>97.105.19.61</td>\n",
       "      <td>Hampton</td>\n",
       "      <td>#hampton</td>\n",
       "      <td>2015-09-22</td>\n",
       "      <td>2016-02-06</td>\n",
       "      <td>2016-06-14 19:52:26</td>\n",
       "      <td>2016-06-14 19:52:26</td>\n",
       "      <td>1</td>\n",
       "      <td>1</td>\n",
       "      <td>PHP Full Stack Web Dev</td>\n",
       "      <td>php</td>\n",
       "      <td>2018-01-26 09:56:06</td>\n",
       "      <td>2018</td>\n",
       "      <td>January</td>\n",
       "      <td>Friday</td>\n",
       "      <td>9</td>\n",
       "    </tr>\n",
       "    <tr>\n",
       "      <th>4</th>\n",
       "      <td>javascript-i/conditionals</td>\n",
       "      <td>2</td>\n",
       "      <td>22</td>\n",
       "      <td>97.105.19.61</td>\n",
       "      <td>Teddy</td>\n",
       "      <td>#teddy</td>\n",
       "      <td>2018-01-08</td>\n",
       "      <td>2018-05-17</td>\n",
       "      <td>2018-01-08 13:59:10</td>\n",
       "      <td>2018-01-08 13:59:10</td>\n",
       "      <td>2</td>\n",
       "      <td>2</td>\n",
       "      <td>Java Full Stack Web Dev</td>\n",
       "      <td>java</td>\n",
       "      <td>2018-01-26 09:56:24</td>\n",
       "      <td>2018</td>\n",
       "      <td>January</td>\n",
       "      <td>Friday</td>\n",
       "      <td>9</td>\n",
       "    </tr>\n",
       "    <tr>\n",
       "      <th>5</th>\n",
       "      <td>javascript-i/loops</td>\n",
       "      <td>2</td>\n",
       "      <td>22</td>\n",
       "      <td>97.105.19.61</td>\n",
       "      <td>Teddy</td>\n",
       "      <td>#teddy</td>\n",
       "      <td>2018-01-08</td>\n",
       "      <td>2018-05-17</td>\n",
       "      <td>2018-01-08 13:59:10</td>\n",
       "      <td>2018-01-08 13:59:10</td>\n",
       "      <td>2</td>\n",
       "      <td>2</td>\n",
       "      <td>Java Full Stack Web Dev</td>\n",
       "      <td>java</td>\n",
       "      <td>2018-01-26 09:56:41</td>\n",
       "      <td>2018</td>\n",
       "      <td>January</td>\n",
       "      <td>Friday</td>\n",
       "      <td>9</td>\n",
       "    </tr>\n",
       "  </tbody>\n",
       "</table>\n",
       "</div>"
      ],
      "text/plain": [
       "                                  path  user_id  cohort_id            ip  \\\n",
       "1                              java-ii        1          8  97.105.19.61   \n",
       "2  java-ii/object-oriented-programming        1          8  97.105.19.61   \n",
       "3   slides/object_oriented_programming        1          8  97.105.19.61   \n",
       "4            javascript-i/conditionals        2         22  97.105.19.61   \n",
       "5                   javascript-i/loops        2         22  97.105.19.61   \n",
       "\n",
       "      name     slack start_date   end_date          created_at  \\\n",
       "1  Hampton  #hampton 2015-09-22 2016-02-06 2016-06-14 19:52:26   \n",
       "2  Hampton  #hampton 2015-09-22 2016-02-06 2016-06-14 19:52:26   \n",
       "3  Hampton  #hampton 2015-09-22 2016-02-06 2016-06-14 19:52:26   \n",
       "4    Teddy    #teddy 2018-01-08 2018-05-17 2018-01-08 13:59:10   \n",
       "5    Teddy    #teddy 2018-01-08 2018-05-17 2018-01-08 13:59:10   \n",
       "\n",
       "           updated_at  program_id  id              course_name  \\\n",
       "1 2016-06-14 19:52:26           1   1   PHP Full Stack Web Dev   \n",
       "2 2016-06-14 19:52:26           1   1   PHP Full Stack Web Dev   \n",
       "3 2016-06-14 19:52:26           1   1   PHP Full Stack Web Dev   \n",
       "4 2018-01-08 13:59:10           2   2  Java Full Stack Web Dev   \n",
       "5 2018-01-08 13:59:10           2   2  Java Full Stack Web Dev   \n",
       "\n",
       "  course_subdomain           date_time  date_year date_month date_weekday  \\\n",
       "1              php 2018-01-26 09:56:02       2018    January       Friday   \n",
       "2              php 2018-01-26 09:56:05       2018    January       Friday   \n",
       "3              php 2018-01-26 09:56:06       2018    January       Friday   \n",
       "4             java 2018-01-26 09:56:24       2018    January       Friday   \n",
       "5             java 2018-01-26 09:56:41       2018    January       Friday   \n",
       "\n",
       "   hour  \n",
       "1     9  \n",
       "2     9  \n",
       "3     9  \n",
       "4     9  \n",
       "5     9  "
      ]
     },
     "execution_count": 13,
     "metadata": {},
     "output_type": "execute_result"
    }
   ],
   "source": [
    "# Let us look at all the records visited by that second ip\n",
    "lesson[lesson.ip == '97.105.19.61'].head()"
   ]
  },
  {
   "cell_type": "code",
   "execution_count": 23,
   "metadata": {},
   "outputs": [
    {
     "data": {
      "image/png": "[encoded data removed]",
      "text/plain": [
       "<Figure size 432x288 with 1 Axes>"
      ]
     },
     "metadata": {
      "needs_background": "light"
     },
     "output_type": "display_data"
    }
   ],
   "source": [
    "# Plotting the activity of the two anomalous ip addresses\n",
    "for idx in range(2):\n",
    "    plt.plot(lesson[lesson.ip == anomalos_ip.index[idx]].resample('M').count().iloc[:,0])\n",
    "plt.legend(range(2))\n",
    "plt.xticks(rotation = 90) # Rotates the x labels so that they don't overlap\n",
    "plt.ylabel('Accessions')\n",
    "plt.xlabel('Date')\n",
    "plt.xticks(rotation=45)\n",
    "plt.title('Activity of anomalous IP-addresses')\n",
    "plt.show()"
   ]
  },
  {
   "cell_type": "code",
   "execution_count": 24,
   "metadata": {},
   "outputs": [
    {
     "data": {
      "image/png": "[encoded data removed]",
      "text/plain": [
       "<Figure size 432x288 with 1 Axes>"
      ]
     },
     "metadata": {
      "needs_background": "light"
     },
     "output_type": "display_data"
    }
   ],
   "source": [
    "for idx in range(2):\n",
    "    plt.plot(lesson[lesson.ip == anomalos_ip.index[idx]].resample('H').count().iloc[:,0])\n",
    "plt.xticks(rotation=45)\n",
    "plt.legend(range(2))\n",
    "plt.show()"
   ]
  },
  {
   "cell_type": "markdown",
   "metadata": {},
   "source": [
    "### Take Away\n",
    "- There are two anamalous ip addresses, 97.105.19.58 and, 97.105.19.61,  which is active more than 3 standard deviations above the mean.\n",
    "- For IP Address 97.105.19.61, it looks like the user is glancing over, as he is not staying on the page for a long time.\n",
    "- Since they are not overlapping in time, it may be same person. Used to access curriculum from one ip and changed the ip address\n",
    "- The activity has decreased between 2019 and 2020."
   ]
  },
  {
   "cell_type": "markdown",
   "metadata": {},
   "source": [
    "### Question 5\n",
    "- At some point in 2019, the ability for students and alumni to access both curriculums (web dev to ds, ds to web dev) should have been shut off. Do you see any evidence of that happening? Did it happen before?"
   ]
  },
  {
   "cell_type": "code",
   "execution_count": 25,
   "metadata": {},
   "outputs": [
    {
     "data": {
      "text/plain": [
       "3-vocabulary                 1\n",
       "2.1-spreadsheets-overview    1\n",
       "imports                      1\n",
       "index.html                   1\n",
       "bad-charts                   1\n",
       "Name: path, dtype: int64"
      ]
     },
     "execution_count": 25,
     "metadata": {},
     "output_type": "execute_result"
    }
   ],
   "source": [
    "# To see if ds students are accessing web dev:\n",
    "lesson[lesson.course_subdomain == 'ds'].path.value_counts().tail()"
   ]
  },
  {
   "cell_type": "code",
   "execution_count": 26,
   "metadata": {},
   "outputs": [
    {
     "data": {
      "text/html": [
       "<div>\n",
       "<style scoped>\n",
       "    .dataframe tbody tr th:only-of-type {\n",
       "        vertical-align: middle;\n",
       "    }\n",
       "\n",
       "    .dataframe tbody tr th {\n",
       "        vertical-align: top;\n",
       "    }\n",
       "\n",
       "    .dataframe thead th {\n",
       "        text-align: right;\n",
       "    }\n",
       "</style>\n",
       "<table border=\"1\" class=\"dataframe\">\n",
       "  <thead>\n",
       "    <tr style=\"text-align: right;\">\n",
       "      <th></th>\n",
       "      <th>path</th>\n",
       "      <th>user_id</th>\n",
       "      <th>cohort_id</th>\n",
       "      <th>ip</th>\n",
       "      <th>name</th>\n",
       "      <th>slack</th>\n",
       "      <th>start_date</th>\n",
       "      <th>end_date</th>\n",
       "      <th>created_at</th>\n",
       "      <th>updated_at</th>\n",
       "      <th>program_id</th>\n",
       "      <th>id</th>\n",
       "      <th>course_name</th>\n",
       "      <th>course_subdomain</th>\n",
       "      <th>date_year</th>\n",
       "      <th>date_month</th>\n",
       "      <th>date_weekday</th>\n",
       "      <th>hour</th>\n",
       "    </tr>\n",
       "    <tr>\n",
       "      <th>date_time</th>\n",
       "      <th></th>\n",
       "      <th></th>\n",
       "      <th></th>\n",
       "      <th></th>\n",
       "      <th></th>\n",
       "      <th></th>\n",
       "      <th></th>\n",
       "      <th></th>\n",
       "      <th></th>\n",
       "      <th></th>\n",
       "      <th></th>\n",
       "      <th></th>\n",
       "      <th></th>\n",
       "      <th></th>\n",
       "      <th></th>\n",
       "      <th></th>\n",
       "      <th></th>\n",
       "      <th></th>\n",
       "    </tr>\n",
       "  </thead>\n",
       "  <tbody>\n",
       "    <tr>\n",
       "      <th>2020-01-01 15:35:02</th>\n",
       "      <td>10-anomaly-detection/1-overview</td>\n",
       "      <td>476</td>\n",
       "      <td>34</td>\n",
       "      <td>136.50.49.145</td>\n",
       "      <td>Bayes</td>\n",
       "      <td>#</td>\n",
       "      <td>2019-08-19</td>\n",
       "      <td>2020-01-30</td>\n",
       "      <td>2019-08-20 14:38:55</td>\n",
       "      <td>2019-08-20 14:38:55</td>\n",
       "      <td>3</td>\n",
       "      <td>3</td>\n",
       "      <td>Data Science</td>\n",
       "      <td>ds</td>\n",
       "      <td>2020</td>\n",
       "      <td>January</td>\n",
       "      <td>Wednesday</td>\n",
       "      <td>15</td>\n",
       "    </tr>\n",
       "  </tbody>\n",
       "</table>\n",
       "</div>"
      ],
      "text/plain": [
       "                                                path  user_id  cohort_id  \\\n",
       "date_time                                                                  \n",
       "2020-01-01 15:35:02  10-anomaly-detection/1-overview      476         34   \n",
       "\n",
       "                                ip   name slack start_date   end_date  \\\n",
       "date_time                                                               \n",
       "2020-01-01 15:35:02  136.50.49.145  Bayes     # 2019-08-19 2020-01-30   \n",
       "\n",
       "                             created_at          updated_at  program_id  id  \\\n",
       "date_time                                                                     \n",
       "2020-01-01 15:35:02 2019-08-20 14:38:55 2019-08-20 14:38:55           3   3   \n",
       "\n",
       "                      course_name course_subdomain  date_year date_month  \\\n",
       "date_time                                                                  \n",
       "2020-01-01 15:35:02  Data Science               ds       2020    January   \n",
       "\n",
       "                    date_weekday  hour  \n",
       "date_time                               \n",
       "2020-01-01 15:35:02    Wednesday    15  "
      ]
     },
     "execution_count": 26,
     "metadata": {},
     "output_type": "execute_result"
    }
   ],
   "source": [
    "# Exploring all ds students from 2020 and later\n",
    "ds = lesson[lesson.course_subdomain == 'ds']\n",
    "ds[ds.date_year > 2019].head(1)"
   ]
  },
  {
   "cell_type": "code",
   "execution_count": 27,
   "metadata": {},
   "outputs": [
    {
     "data": {
      "text/plain": [
       "grades/getUserDetails/916/3                                  1\n",
       "appendix/www.opensecrets.org                                 1\n",
       "b-clustering/project                                         1\n",
       "10-anomaly-detection/time-series-anomaly-detection-part-1    1\n",
       "6-regression/8-Project                                       1\n",
       "Name: path, dtype: int64"
      ]
     },
     "execution_count": 27,
     "metadata": {},
     "output_type": "execute_result"
    }
   ],
   "source": [
    "ds[ds.date_year > 2019].path.value_counts().tail()"
   ]
  },
  {
   "cell_type": "code",
   "execution_count": 28,
   "metadata": {},
   "outputs": [
    {
     "data": {
      "text/html": [
       "<div>\n",
       "<style scoped>\n",
       "    .dataframe tbody tr th:only-of-type {\n",
       "        vertical-align: middle;\n",
       "    }\n",
       "\n",
       "    .dataframe tbody tr th {\n",
       "        vertical-align: top;\n",
       "    }\n",
       "\n",
       "    .dataframe thead th {\n",
       "        text-align: right;\n",
       "    }\n",
       "</style>\n",
       "<table border=\"1\" class=\"dataframe\">\n",
       "  <thead>\n",
       "    <tr style=\"text-align: right;\">\n",
       "      <th></th>\n",
       "      <th>path</th>\n",
       "      <th>user_id</th>\n",
       "      <th>cohort_id</th>\n",
       "      <th>ip</th>\n",
       "      <th>name</th>\n",
       "      <th>slack</th>\n",
       "      <th>start_date</th>\n",
       "      <th>end_date</th>\n",
       "      <th>created_at</th>\n",
       "      <th>updated_at</th>\n",
       "      <th>program_id</th>\n",
       "      <th>id</th>\n",
       "      <th>course_name</th>\n",
       "      <th>course_subdomain</th>\n",
       "      <th>date_year</th>\n",
       "      <th>date_month</th>\n",
       "      <th>date_weekday</th>\n",
       "      <th>hour</th>\n",
       "    </tr>\n",
       "    <tr>\n",
       "      <th>date_time</th>\n",
       "      <th></th>\n",
       "      <th></th>\n",
       "      <th></th>\n",
       "      <th></th>\n",
       "      <th></th>\n",
       "      <th></th>\n",
       "      <th></th>\n",
       "      <th></th>\n",
       "      <th></th>\n",
       "      <th></th>\n",
       "      <th></th>\n",
       "      <th></th>\n",
       "      <th></th>\n",
       "      <th></th>\n",
       "      <th></th>\n",
       "      <th></th>\n",
       "      <th></th>\n",
       "      <th></th>\n",
       "    </tr>\n",
       "  </thead>\n",
       "  <tbody>\n",
       "    <tr>\n",
       "      <th>2018-01-26 09:56:02</th>\n",
       "      <td>java-ii</td>\n",
       "      <td>1</td>\n",
       "      <td>8</td>\n",
       "      <td>97.105.19.61</td>\n",
       "      <td>Hampton</td>\n",
       "      <td>#hampton</td>\n",
       "      <td>2015-09-22</td>\n",
       "      <td>2016-02-06</td>\n",
       "      <td>2016-06-14 19:52:26</td>\n",
       "      <td>2016-06-14 19:52:26</td>\n",
       "      <td>1</td>\n",
       "      <td>1</td>\n",
       "      <td>PHP Full Stack Web Dev</td>\n",
       "      <td>php</td>\n",
       "      <td>2018</td>\n",
       "      <td>January</td>\n",
       "      <td>Friday</td>\n",
       "      <td>9</td>\n",
       "    </tr>\n",
       "  </tbody>\n",
       "</table>\n",
       "</div>"
      ],
      "text/plain": [
       "                        path  user_id  cohort_id            ip     name  \\\n",
       "date_time                                                                 \n",
       "2018-01-26 09:56:02  java-ii        1          8  97.105.19.61  Hampton   \n",
       "\n",
       "                        slack start_date   end_date          created_at  \\\n",
       "date_time                                                                 \n",
       "2018-01-26 09:56:02  #hampton 2015-09-22 2016-02-06 2016-06-14 19:52:26   \n",
       "\n",
       "                             updated_at  program_id  id  \\\n",
       "date_time                                                 \n",
       "2018-01-26 09:56:02 2016-06-14 19:52:26           1   1   \n",
       "\n",
       "                                course_name course_subdomain  date_year  \\\n",
       "date_time                                                                 \n",
       "2018-01-26 09:56:02  PHP Full Stack Web Dev              php       2018   \n",
       "\n",
       "                    date_month date_weekday  hour  \n",
       "date_time                                          \n",
       "2018-01-26 09:56:02    January       Friday     9  "
      ]
     },
     "execution_count": 28,
     "metadata": {},
     "output_type": "execute_result"
    }
   ],
   "source": [
    "# Now exploring web dev:\n",
    "wd = lesson[lesson.course_subdomain != 'ds']\n",
    "wd.head(1)"
   ]
  },
  {
   "cell_type": "code",
   "execution_count": 29,
   "metadata": {},
   "outputs": [
    {
     "data": {
      "text/plain": [
       "mysql//ntellij                                                  1\n",
       "prework/cli/03-filepaths                                        1\n",
       "appendix/further-reading/css-grid-additional-features           1\n",
       "appendix/capstone-workbook/sw-planning.md                       1\n",
       "appendix/professional-development/post-interview-review-form    1\n",
       "Name: path, dtype: int64"
      ]
     },
     "execution_count": 29,
     "metadata": {},
     "output_type": "execute_result"
    }
   ],
   "source": [
    "# Web dev over all of the years:\n",
    "wd.path.value_counts().tail()"
   ]
  },
  {
   "cell_type": "code",
   "execution_count": 30,
   "metadata": {},
   "outputs": [
    {
     "data": {
      "text/plain": [
       "explore                                                         1\n",
       "working-with-time-series-data                                   1\n",
       "modeling-lesson1                                                1\n",
       "overview                                                        1\n",
       "appendix/professional-development/post-interview-review-form    1\n",
       "Name: path, dtype: int64"
      ]
     },
     "execution_count": 30,
     "metadata": {},
     "output_type": "execute_result"
    }
   ],
   "source": [
    "# Web Dev after 2019:\n",
    "wd[wd.date_year > 2019].path.value_counts().tail()"
   ]
  },
  {
   "cell_type": "markdown",
   "metadata": {},
   "source": [
    "### Take Away\n",
    "- Although there are less, there are at least two instances of data science students web dev site: java-ii/object-oriented-programming and spring.\n",
    "- For web dev, they did seem to access the Data Science curriculum fairly often prior to having access denied. After 2019, there was a large drop off, but there seems to be a few cases where a data science topic was accessed."
   ]
  },
  {
   "cell_type": "markdown",
   "metadata": {},
   "source": [
    "### Questions 6\n",
    "- What topics are grads continuing to reference after graduation and into their jobs (for each program)?\n"
   ]
  },
  {
   "cell_type": "markdown",
   "metadata": {},
   "source": [
    "#### Web Dev"
   ]
  },
  {
   "cell_type": "code",
   "execution_count": 4,
   "metadata": {},
   "outputs": [
    {
     "data": {
      "text/plain": [
       "date_time\n",
       "2018-01-26 09:55:03                                      /\n",
       "2018-01-26 09:56:02                                java-ii\n",
       "2018-01-26 09:56:05    java-ii/object-oriented-programming\n",
       "2018-01-26 09:56:06     slides/object_oriented_programming\n",
       "2018-01-26 10:14:47                                      /\n",
       "                                      ...                 \n",
       "2021-04-21 14:43:09                      jquery/mapbox-api\n",
       "2021-04-21 14:43:10                jquery/ajax/weather-map\n",
       "2021-04-21 14:50:36                                 java-i\n",
       "2021-04-21 14:50:38            java-i/introduction-to-java\n",
       "2021-04-21 16:30:30                               appendix\n",
       "Name: path, Length: 104557, dtype: object"
      ]
     },
     "execution_count": 4,
     "metadata": {},
     "output_type": "execute_result"
    }
   ],
   "source": [
    "# web dev students that continued referencing curriculum after graduation\n",
    "logs[\"path\"][(logs.index > logs[\"end_date\"]) & (logs[\"program_name\"] == \"web dev\") & (logs[\"name\"] != \"Staff\")]"
   ]
  },
  {
   "cell_type": "markdown",
   "metadata": {},
   "source": [
    "#### Data Science"
   ]
  },
  {
   "cell_type": "code",
   "execution_count": 5,
   "metadata": {},
   "outputs": [
    {
     "data": {
      "text/plain": [
       "date_time\n",
       "2020-01-30 08:01:31             1-fundamentals/1.1-intro-to-data-science\n",
       "2020-01-30 08:01:32             1-fundamentals/modern-data-scientist.jpg\n",
       "2020-01-30 08:01:32                 1-fundamentals/AI-ML-DL-timeline.jpg\n",
       "2020-01-31 11:05:04                                                    /\n",
       "2020-01-31 11:05:13             1-fundamentals/1.1-intro-to-data-science\n",
       "                                             ...                        \n",
       "2021-04-21 15:20:12                              classification/overview\n",
       "2021-04-21 15:20:12    classification/classical_programming_vs_machin...\n",
       "2021-04-21 15:20:12             classification/scale_features_or_not.svg\n",
       "2021-04-21 15:20:14                               classification/project\n",
       "2021-04-21 15:20:18                               classification/acquire\n",
       "Name: path, Length: 11544, dtype: object"
      ]
     },
     "execution_count": 5,
     "metadata": {},
     "output_type": "execute_result"
    }
   ],
   "source": [
    "# data science students that continued referencing curriculum after graduation\n",
    "logs[\"path\"][(logs.index > logs[\"end_date\"]) & (logs[\"program_name\"] == \"data science\") & (logs[\"name\"] != \"Staff\")]"
   ]
  },
  {
   "cell_type": "markdown",
   "metadata": {},
   "source": [
    "### Take Away\n",
    "- These are the topics by program that got referenced after a student graduated."
   ]
  },
  {
   "cell_type": "markdown",
   "metadata": {},
   "source": [
    "### Question 7\n",
    "7) Which lessons are least accessed?"
   ]
  },
  {
   "cell_type": "code",
   "execution_count": 6,
   "metadata": {},
   "outputs": [
    {
     "data": {
      "text/plain": [
       "appendix/professional-development/post-interview-review-form    1\n",
       "cli-03-file-paths                                               1\n",
       "cli-07-more-topics                                              1\n",
       "spring/services                                                 1\n",
       "8-timeseries/1-overview                                         1\n",
       "8-timeseries/2-intro-to-timeseries                              1\n",
       "8-timeseries/3-acquire                                          1\n",
       "8-timeseries/4-prep                                             1\n",
       "8-timeseries/6.1-parametric-modeling                            1\n",
       "8-timeseries/6.2-prophet                                        1\n",
       "Name: path, dtype: int64"
      ]
     },
     "execution_count": 6,
     "metadata": {},
     "output_type": "execute_result"
    }
   ],
   "source": [
    "# top 10 lessons that were accessed the fewest\n",
    "logs[\"path\"].value_counts(ascending=True).nsmallest(n=10, keep=\"first\")"
   ]
  },
  {
   "cell_type": "markdown",
   "metadata": {},
   "source": [
    "### Take Away\n",
    "- These are the top 10 least accessed topics, but this can be adjusted based on needs."
   ]
  },
  {
   "cell_type": "markdown",
   "metadata": {},
   "source": []
  }
 ],
 "metadata": {
  "interpreter": {
   "hash": "3d597f4c481aa0f25dceb95d2a0067e73c0966dcbd003d741d821a7208527ecf"
  },
  "kernelspec": {
   "display_name": "Python 3.9.5 64-bit ('base': conda)",
   "language": "python",
   "name": "python3"
  },
  "language_info": {
   "codemirror_mode": {
    "name": "ipython",
    "version": 3
   },
   "file_extension": ".py",
   "mimetype": "text/x-python",
   "name": "python",
   "nbconvert_exporter": "python",
   "pygments_lexer": "ipython3",
   "version": "3.9.5"
  },
  "orig_nbformat": 4
 },
 "nbformat": 4,
 "nbformat_minor": 2
}
