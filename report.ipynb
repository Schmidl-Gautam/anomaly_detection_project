{
 "cells": [
  {
   "cell_type": "markdown",
   "metadata": {},
   "source": [
    "## Curriculum Logs Anomaly Detection\n",
    "By: Scott Schmidl, Rajaram Gautam\n",
    "01/31/2022\n",
    "\n",
    "### Goal\n",
    "\n",
    "\n",
    "### Description\n",
    "\n",
    "\n",
    "### Initial Questions\n",
    "<p>1. Which lesson appears to attract the most traffic consistently across cohorts (per program)?</p>\n",
    "<p>2. Is there a cohort that referred to a lesson significantly more than other cohorts seemed to gloss over?</p>\n",
    "<p>3. Are there students who, when active, hardly access the curriculum? If so, what information do you have about these students?</p>\n",
    "<p>4. Is there any suspicious activity, such as users/machines/etc accessing the curriculum who shouldn’t be? Does it appear that any web-scraping is happening? Are there any suspicious IP addresses?</p>\n",
    "<p>5. At some point in 2019, the ability for students and alumni to access both curriculums (web dev to ds, ds to web dev) should have been shut off. Do you see any evidence of that happening? Did it happen before?</p>\n",
    "<p>6. What topics are grads continuing to reference after graduation and into their jobs (for each program)?</p>\n",
    "<p>7. Which lessons are least accessed?</p>\n",
    "\n",
    "### Data Dictionary\n",
    "<table>\n",
    "<thead><tr>\n",
    "<th>Variable</th>\n",
    "<th>Meaning</th>\n",
    "</tr>\n",
    "</thead>\n",
    "<tbody>\n",
    "<tr>\n",
    "<td>path</td>\n",
    "<td>The lesson that was accessed</td>\n",
    "</tr>\n",
    "<tr>\n",
    "<td>user_id</td>\n",
    "<td>id of the user</td>\n",
    "</tr>\n",
    "<tr>\n",
    "<td>cohort_id</td>\n",
    "<td>id of the cohort</td>\n",
    "</tr>\n",
    "<tr>\n",
    "<td>ip</td>\n",
    "<td>ip address of the user</td>\n",
    "</tr>\n",
    "<tr>\n",
    "<td>name</td>\n",
    "<td>name of cohort</td>\n",
    "</tr>\n",
    "<tr>\n",
    "<td>slack</td>\n",
    "<td>slack channel name</td>\n",
    "</tr>\n",
    "<tr>\n",
    "<td>start_date</td>\n",
    "<td>start date of cohort</td>\n",
    "</tr>\n",
    "<tr>\n",
    "<td>end_date</td>\n",
    "<td>end date of cohort</td>\n",
    "</tr>\n",
    "<tr>\n",
    "<td>created_at</td>\n",
    "<td>date time cohort information was entered into database</td>\n",
    "</tr>\n",
    "<tr>\n",
    "<td>updated_at</td>\n",
    "<td>date time cohort information was updated</td>\n",
    "</tr>\n",
    "<tr>\n",
    "<td>deleted_at</td>\n",
    "<td>date time cohort information was deleted</td>\n",
    "</tr>\n",
    "<tr>\n",
    "<td>program_id</td>\n",
    "<td>id of the program</td>\n",
    "</tr>\n",
    "<tr>\n",
    "<td>program_name</td>\n",
    "<td>name of program, either web dev or data science</td>\n",
    "</tr>\n",
    "</tbody>\n",
    "</table>\n",
    "\n",
    "### Wrangling and Prepare\n",
    "- To wrangle the curriculum logs, we used the curriculum logs database in our MySQL server and saved it to a CSV.\n",
    "- To prepare the data we performed some feature engineering to create date time columns and program_name"
   ]
  },
  {
   "cell_type": "code",
   "execution_count": 1,
   "metadata": {},
   "outputs": [],
   "source": [
    "from wrangle import Wrangle\n",
    "logs = Wrangle().prep_data()"
   ]
  },
  {
   "cell_type": "markdown",
   "metadata": {},
   "source": [
    "### Exploratory Data Analysis"
   ]
  },
  {
   "cell_type": "markdown",
   "metadata": {},
   "source": [
    "### Question 1\n",
    "- Which lesson appears to attract the most traffic consistently across cohorts (per program)?"
   ]
  },
  {
   "cell_type": "code",
   "execution_count": null,
   "metadata": {},
   "outputs": [],
   "source": []
  },
  {
   "cell_type": "code",
   "execution_count": null,
   "metadata": {},
   "outputs": [],
   "source": []
  },
  {
   "cell_type": "markdown",
   "metadata": {},
   "source": [
    "### Take Away\n",
    "- "
   ]
  },
  {
   "cell_type": "markdown",
   "metadata": {},
   "source": [
    "### Question 2\n",
    "- Is there a cohort that referred to a lesson significantly more than other cohorts seemed to gloss over?"
   ]
  },
  {
   "cell_type": "code",
   "execution_count": 2,
   "metadata": {},
   "outputs": [
    {
     "data": {
      "text/html": [
       "<div>\n",
       "<style scoped>\n",
       "    .dataframe tbody tr th:only-of-type {\n",
       "        vertical-align: middle;\n",
       "    }\n",
       "\n",
       "    .dataframe tbody tr th {\n",
       "        vertical-align: top;\n",
       "    }\n",
       "\n",
       "    .dataframe thead th {\n",
       "        text-align: right;\n",
       "    }\n",
       "</style>\n",
       "<table border=\"1\" class=\"dataframe\">\n",
       "  <thead>\n",
       "    <tr style=\"text-align: right;\">\n",
       "      <th></th>\n",
       "      <th>path</th>\n",
       "    </tr>\n",
       "    <tr>\n",
       "      <th>name</th>\n",
       "      <th></th>\n",
       "    </tr>\n",
       "  </thead>\n",
       "  <tbody>\n",
       "    <tr>\n",
       "      <th>Ceres</th>\n",
       "      <td>40730</td>\n",
       "    </tr>\n",
       "    <tr>\n",
       "      <th>Zion</th>\n",
       "      <td>38096</td>\n",
       "    </tr>\n",
       "    <tr>\n",
       "      <th>Jupiter</th>\n",
       "      <td>37109</td>\n",
       "    </tr>\n",
       "    <tr>\n",
       "      <th>Fortuna</th>\n",
       "      <td>36902</td>\n",
       "    </tr>\n",
       "    <tr>\n",
       "      <th>Voyageurs</th>\n",
       "      <td>35636</td>\n",
       "    </tr>\n",
       "    <tr>\n",
       "      <th>Ganymede</th>\n",
       "      <td>33844</td>\n",
       "    </tr>\n",
       "    <tr>\n",
       "      <th>Apex</th>\n",
       "      <td>33568</td>\n",
       "    </tr>\n",
       "    <tr>\n",
       "      <th>Deimos</th>\n",
       "      <td>32888</td>\n",
       "    </tr>\n",
       "    <tr>\n",
       "      <th>Darden</th>\n",
       "      <td>32015</td>\n",
       "    </tr>\n",
       "    <tr>\n",
       "      <th>Teddy</th>\n",
       "      <td>30926</td>\n",
       "    </tr>\n",
       "  </tbody>\n",
       "</table>\n",
       "</div>"
      ],
      "text/plain": [
       "            path\n",
       "name            \n",
       "Ceres      40730\n",
       "Zion       38096\n",
       "Jupiter    37109\n",
       "Fortuna    36902\n",
       "Voyageurs  35636\n",
       "Ganymede   33844\n",
       "Apex       33568\n",
       "Deimos     32888\n",
       "Darden     32015\n",
       "Teddy      30926"
      ]
     },
     "execution_count": 2,
     "metadata": {},
     "output_type": "execute_result"
    }
   ],
   "source": [
    "logs[[\"name\", \"path\"]][logs[\"name\"] != \"Staff\"].groupby(by=[\"name\"], sort=False).count().nlargest(n=10, columns=\"path\", keep=\"first\")"
   ]
  },
  {
   "cell_type": "markdown",
   "metadata": {},
   "source": [
    "### Take Away\n",
    "- These are the top 10 cohorts who accessed the curriculum the most."
   ]
  },
  {
   "cell_type": "markdown",
   "metadata": {},
   "source": [
    "### Question 3\n",
    "- Are there students who, when active, hardly access the curriculum? If so, what information do you have about these students?"
   ]
  },
  {
   "cell_type": "code",
   "execution_count": 3,
   "metadata": {},
   "outputs": [
    {
     "data": {
      "text/html": [
       "<div>\n",
       "<style scoped>\n",
       "    .dataframe tbody tr th:only-of-type {\n",
       "        vertical-align: middle;\n",
       "    }\n",
       "\n",
       "    .dataframe tbody tr th {\n",
       "        vertical-align: top;\n",
       "    }\n",
       "\n",
       "    .dataframe thead th {\n",
       "        text-align: right;\n",
       "    }\n",
       "</style>\n",
       "<table border=\"1\" class=\"dataframe\">\n",
       "  <thead>\n",
       "    <tr style=\"text-align: right;\">\n",
       "      <th></th>\n",
       "      <th>path</th>\n",
       "    </tr>\n",
       "    <tr>\n",
       "      <th>user_id</th>\n",
       "      <th></th>\n",
       "    </tr>\n",
       "  </thead>\n",
       "  <tbody>\n",
       "    <tr>\n",
       "      <th>619</th>\n",
       "      <td>1</td>\n",
       "    </tr>\n",
       "    <tr>\n",
       "      <th>879</th>\n",
       "      <td>1</td>\n",
       "    </tr>\n",
       "    <tr>\n",
       "      <th>918</th>\n",
       "      <td>1</td>\n",
       "    </tr>\n",
       "    <tr>\n",
       "      <th>940</th>\n",
       "      <td>1</td>\n",
       "    </tr>\n",
       "    <tr>\n",
       "      <th>832</th>\n",
       "      <td>3</td>\n",
       "    </tr>\n",
       "    <tr>\n",
       "      <th>278</th>\n",
       "      <td>4</td>\n",
       "    </tr>\n",
       "    <tr>\n",
       "      <th>539</th>\n",
       "      <td>5</td>\n",
       "    </tr>\n",
       "    <tr>\n",
       "      <th>956</th>\n",
       "      <td>6</td>\n",
       "    </tr>\n",
       "    <tr>\n",
       "      <th>812</th>\n",
       "      <td>7</td>\n",
       "    </tr>\n",
       "    <tr>\n",
       "      <th>388</th>\n",
       "      <td>8</td>\n",
       "    </tr>\n",
       "  </tbody>\n",
       "</table>\n",
       "</div>"
      ],
      "text/plain": [
       "         path\n",
       "user_id      \n",
       "619         1\n",
       "879         1\n",
       "918         1\n",
       "940         1\n",
       "832         3\n",
       "278         4\n",
       "539         5\n",
       "956         6\n",
       "812         7\n",
       "388         8"
      ]
     },
     "execution_count": 3,
     "metadata": {},
     "output_type": "execute_result"
    }
   ],
   "source": [
    "was_student = (logs.index < logs[\"end_date\"]) & (logs.index > logs[\"start_date\"])\n",
    "not_staff = (logs[\"name\"] != \"Staff\")\n",
    "\n",
    "logs[[\"user_id\", \"path\"]][was_student & not_staff].groupby(by=[\"user_id\"], sort=False).count().nsmallest(n=10, columns=\"path\", keep=\"first\")"
   ]
  },
  {
   "cell_type": "markdown",
   "metadata": {},
   "source": [
    "### Take Away\n",
    "- These students were active students and not staff. These are the 10 students whom accessed the curriculum the fewest."
   ]
  },
  {
   "cell_type": "markdown",
   "metadata": {},
   "source": [
    "### Question 4\n",
    "- Is there any suspicious activity, such as users/machines/etc accessing the curriculum who shouldn’t be? Does it appear that any web-scraping is happening? Are there any suspicious IP addresses?\n"
   ]
  },
  {
   "cell_type": "code",
   "execution_count": null,
   "metadata": {},
   "outputs": [],
   "source": []
  },
  {
   "cell_type": "code",
   "execution_count": null,
   "metadata": {},
   "outputs": [],
   "source": []
  },
  {
   "cell_type": "markdown",
   "metadata": {},
   "source": [
    "### Take Away\n",
    "-"
   ]
  },
  {
   "cell_type": "markdown",
   "metadata": {},
   "source": [
    "### Question 5\n",
    "- At some point in 2019, the ability for students and alumni to access both curriculums (web dev to ds, ds to web dev) should have been shut off. Do you see any evidence of that happening? Did it happen before?"
   ]
  },
  {
   "cell_type": "code",
   "execution_count": null,
   "metadata": {},
   "outputs": [],
   "source": []
  },
  {
   "cell_type": "code",
   "execution_count": null,
   "metadata": {},
   "outputs": [],
   "source": []
  },
  {
   "cell_type": "markdown",
   "metadata": {},
   "source": [
    "### Take Away\n",
    "- "
   ]
  },
  {
   "cell_type": "markdown",
   "metadata": {},
   "source": [
    "### Questions 6\n",
    "- What topics are grads continuing to reference after graduation and into their jobs (for each program)?\n"
   ]
  },
  {
   "cell_type": "markdown",
   "metadata": {},
   "source": [
    "#### Web Dev"
   ]
  },
  {
   "cell_type": "code",
   "execution_count": 5,
   "metadata": {},
   "outputs": [
    {
     "data": {
      "text/plain": [
       "date_time\n",
       "2018-01-26 09:55:03                                      /\n",
       "2018-01-26 09:56:02                                java-ii\n",
       "2018-01-26 09:56:05    java-ii/object-oriented-programming\n",
       "2018-01-26 09:56:06     slides/object_oriented_programming\n",
       "2018-01-26 10:14:47                                      /\n",
       "                                      ...                 \n",
       "2021-04-21 14:43:09                      jquery/mapbox-api\n",
       "2021-04-21 14:43:10                jquery/ajax/weather-map\n",
       "2021-04-21 14:50:36                                 java-i\n",
       "2021-04-21 14:50:38            java-i/introduction-to-java\n",
       "2021-04-21 16:30:30                               appendix\n",
       "Name: path, Length: 104557, dtype: object"
      ]
     },
     "execution_count": 5,
     "metadata": {},
     "output_type": "execute_result"
    }
   ],
   "source": [
    "logs[\"path\"][(logs.index > logs[\"end_date\"]) & (logs[\"program_name\"] == \"web dev\") & (logs[\"name\"] != \"Staff\")]"
   ]
  },
  {
   "cell_type": "markdown",
   "metadata": {},
   "source": [
    "#### Data Science"
   ]
  },
  {
   "cell_type": "code",
   "execution_count": 6,
   "metadata": {},
   "outputs": [
    {
     "data": {
      "text/plain": [
       "date_time\n",
       "2020-01-30 08:01:31             1-fundamentals/1.1-intro-to-data-science\n",
       "2020-01-30 08:01:32             1-fundamentals/modern-data-scientist.jpg\n",
       "2020-01-30 08:01:32                 1-fundamentals/AI-ML-DL-timeline.jpg\n",
       "2020-01-31 11:05:04                                                    /\n",
       "2020-01-31 11:05:13             1-fundamentals/1.1-intro-to-data-science\n",
       "                                             ...                        \n",
       "2021-04-21 15:20:12                              classification/overview\n",
       "2021-04-21 15:20:12    classification/classical_programming_vs_machin...\n",
       "2021-04-21 15:20:12             classification/scale_features_or_not.svg\n",
       "2021-04-21 15:20:14                               classification/project\n",
       "2021-04-21 15:20:18                               classification/acquire\n",
       "Name: path, Length: 11544, dtype: object"
      ]
     },
     "execution_count": 6,
     "metadata": {},
     "output_type": "execute_result"
    }
   ],
   "source": [
    "logs[\"path\"][(logs.index > logs[\"end_date\"]) & (logs[\"program_name\"] == \"data science\") & (logs[\"name\"] != \"Staff\")]"
   ]
  },
  {
   "cell_type": "markdown",
   "metadata": {},
   "source": [
    "### Take Away\n",
    "- These are the topics by program that got referenced after a student graduated."
   ]
  },
  {
   "cell_type": "markdown",
   "metadata": {},
   "source": [
    "### Question 7\n",
    "7) Which lessons are least accessed?"
   ]
  },
  {
   "cell_type": "code",
   "execution_count": 7,
   "metadata": {},
   "outputs": [
    {
     "data": {
      "text/plain": [
       "appendix/professional-development/post-interview-review-form    1\n",
       "cli-03-file-paths                                               1\n",
       "cli-07-more-topics                                              1\n",
       "spring/services                                                 1\n",
       "8-timeseries/1-overview                                         1\n",
       "8-timeseries/2-intro-to-timeseries                              1\n",
       "8-timeseries/3-acquire                                          1\n",
       "8-timeseries/4-prep                                             1\n",
       "8-timeseries/6.1-parametric-modeling                            1\n",
       "8-timeseries/6.2-prophet                                        1\n",
       "Name: path, dtype: int64"
      ]
     },
     "execution_count": 7,
     "metadata": {},
     "output_type": "execute_result"
    }
   ],
   "source": [
    "logs[\"path\"].value_counts(ascending=True).nsmallest(n=10, keep=\"first\")"
   ]
  },
  {
   "cell_type": "markdown",
   "metadata": {},
   "source": [
    "### Take Away\n",
    "- These are the top 10 least accessed topics, but this can be adjusted based on needs."
   ]
  },
  {
   "cell_type": "markdown",
   "metadata": {},
   "source": []
  }
 ],
 "metadata": {
  "interpreter": {
   "hash": "3d597f4c481aa0f25dceb95d2a0067e73c0966dcbd003d741d821a7208527ecf"
  },
  "kernelspec": {
   "display_name": "Python 3.9.5 64-bit ('base': conda)",
   "language": "python",
   "name": "python3"
  },
  "language_info": {
   "codemirror_mode": {
    "name": "ipython",
    "version": 3
   },
   "file_extension": ".py",
   "mimetype": "text/x-python",
   "name": "python",
   "nbconvert_exporter": "python",
   "pygments_lexer": "ipython3",
   "version": "3.9.5"
  },
  "orig_nbformat": 4
 },
 "nbformat": 4,
 "nbformat_minor": 2
}
