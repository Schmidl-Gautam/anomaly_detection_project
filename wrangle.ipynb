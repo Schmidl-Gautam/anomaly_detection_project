{
 "cells": [
  {
   "cell_type": "code",
   "execution_count": 1,
   "metadata": {},
   "outputs": [],
   "source": [
    "import matplotlib.pyplot as plt\n",
    "import numpy as np\n",
    "import pandas as pd\n",
    "import seaborn as sns\n",
    "from env import username, password, hostname"
   ]
  },
  {
   "cell_type": "code",
   "execution_count": 2,
   "metadata": {},
   "outputs": [],
   "source": [
    "# url = f'mysql+pymysql://{username}:{password}@{hostname}/curriculum_logs'\n",
    "# query = \"\"\"select * from logs join cohorts on logs.cohort_id = cohorts.id;\"\"\"\n",
    "# df = pd.read_sql(query, url)\n",
    "# df.drop(\"id\", axis=1, inplace=True)\n",
    "# df.to_csv(\"curriculum_logs.csv\", index=False)\n",
    "# df.head()"
   ]
  },
  {
   "cell_type": "code",
   "execution_count": 3,
   "metadata": {},
   "outputs": [
    {
     "data": {
      "text/html": [
       "<div>\n",
       "<style scoped>\n",
       "    .dataframe tbody tr th:only-of-type {\n",
       "        vertical-align: middle;\n",
       "    }\n",
       "\n",
       "    .dataframe tbody tr th {\n",
       "        vertical-align: top;\n",
       "    }\n",
       "\n",
       "    .dataframe thead th {\n",
       "        text-align: right;\n",
       "    }\n",
       "</style>\n",
       "<table border=\"1\" class=\"dataframe\">\n",
       "  <thead>\n",
       "    <tr style=\"text-align: right;\">\n",
       "      <th></th>\n",
       "      <th>date</th>\n",
       "      <th>time</th>\n",
       "      <th>path</th>\n",
       "      <th>user_id</th>\n",
       "      <th>cohort_id</th>\n",
       "      <th>ip</th>\n",
       "      <th>name</th>\n",
       "      <th>slack</th>\n",
       "      <th>start_date</th>\n",
       "      <th>end_date</th>\n",
       "      <th>created_at</th>\n",
       "      <th>updated_at</th>\n",
       "      <th>deleted_at</th>\n",
       "      <th>program_id</th>\n",
       "    </tr>\n",
       "  </thead>\n",
       "  <tbody>\n",
       "    <tr>\n",
       "      <th>0</th>\n",
       "      <td>2018-01-26</td>\n",
       "      <td>09:55:03</td>\n",
       "      <td>/</td>\n",
       "      <td>1</td>\n",
       "      <td>8.0</td>\n",
       "      <td>97.105.19.61</td>\n",
       "      <td>Hampton</td>\n",
       "      <td>#hampton</td>\n",
       "      <td>2015-09-22</td>\n",
       "      <td>2016-02-06</td>\n",
       "      <td>2016-06-14 19:52:26</td>\n",
       "      <td>2016-06-14 19:52:26</td>\n",
       "      <td>NaN</td>\n",
       "      <td>1</td>\n",
       "    </tr>\n",
       "    <tr>\n",
       "      <th>1</th>\n",
       "      <td>2018-01-26</td>\n",
       "      <td>09:56:02</td>\n",
       "      <td>java-ii</td>\n",
       "      <td>1</td>\n",
       "      <td>8.0</td>\n",
       "      <td>97.105.19.61</td>\n",
       "      <td>Hampton</td>\n",
       "      <td>#hampton</td>\n",
       "      <td>2015-09-22</td>\n",
       "      <td>2016-02-06</td>\n",
       "      <td>2016-06-14 19:52:26</td>\n",
       "      <td>2016-06-14 19:52:26</td>\n",
       "      <td>NaN</td>\n",
       "      <td>1</td>\n",
       "    </tr>\n",
       "  </tbody>\n",
       "</table>\n",
       "</div>"
      ],
      "text/plain": [
       "         date      time     path  user_id  cohort_id            ip     name  \\\n",
       "0  2018-01-26  09:55:03        /        1        8.0  97.105.19.61  Hampton   \n",
       "1  2018-01-26  09:56:02  java-ii        1        8.0  97.105.19.61  Hampton   \n",
       "\n",
       "      slack  start_date    end_date           created_at           updated_at  \\\n",
       "0  #hampton  2015-09-22  2016-02-06  2016-06-14 19:52:26  2016-06-14 19:52:26   \n",
       "1  #hampton  2015-09-22  2016-02-06  2016-06-14 19:52:26  2016-06-14 19:52:26   \n",
       "\n",
       "   deleted_at  program_id  \n",
       "0         NaN           1  \n",
       "1         NaN           1  "
      ]
     },
     "execution_count": 3,
     "metadata": {},
     "output_type": "execute_result"
    }
   ],
   "source": [
    "df = pd.read_csv(\"curriculum_logs.csv\")\n",
    "df.head(2)"
   ]
  },
  {
   "cell_type": "code",
   "execution_count": 4,
   "metadata": {},
   "outputs": [
    {
     "data": {
      "text/html": [
       "<div>\n",
       "<style scoped>\n",
       "    .dataframe tbody tr th:only-of-type {\n",
       "        vertical-align: middle;\n",
       "    }\n",
       "\n",
       "    .dataframe tbody tr th {\n",
       "        vertical-align: top;\n",
       "    }\n",
       "\n",
       "    .dataframe thead th {\n",
       "        text-align: right;\n",
       "    }\n",
       "</style>\n",
       "<table border=\"1\" class=\"dataframe\">\n",
       "  <thead>\n",
       "    <tr style=\"text-align: right;\">\n",
       "      <th></th>\n",
       "      <th>date</th>\n",
       "      <th>time</th>\n",
       "      <th>path</th>\n",
       "      <th>user_id</th>\n",
       "      <th>cohort_id</th>\n",
       "      <th>ip</th>\n",
       "      <th>name</th>\n",
       "      <th>slack</th>\n",
       "      <th>start_date</th>\n",
       "      <th>end_date</th>\n",
       "      <th>created_at</th>\n",
       "      <th>updated_at</th>\n",
       "      <th>deleted_at</th>\n",
       "      <th>program_id</th>\n",
       "      <th>program_name</th>\n",
       "    </tr>\n",
       "  </thead>\n",
       "  <tbody>\n",
       "    <tr>\n",
       "      <th>0</th>\n",
       "      <td>2018-01-26</td>\n",
       "      <td>09:55:03</td>\n",
       "      <td>/</td>\n",
       "      <td>1</td>\n",
       "      <td>8.0</td>\n",
       "      <td>97.105.19.61</td>\n",
       "      <td>Hampton</td>\n",
       "      <td>#hampton</td>\n",
       "      <td>2015-09-22</td>\n",
       "      <td>2016-02-06</td>\n",
       "      <td>2016-06-14 19:52:26</td>\n",
       "      <td>2016-06-14 19:52:26</td>\n",
       "      <td>NaN</td>\n",
       "      <td>1</td>\n",
       "      <td>web dev</td>\n",
       "    </tr>\n",
       "    <tr>\n",
       "      <th>1</th>\n",
       "      <td>2018-01-26</td>\n",
       "      <td>09:56:02</td>\n",
       "      <td>java-ii</td>\n",
       "      <td>1</td>\n",
       "      <td>8.0</td>\n",
       "      <td>97.105.19.61</td>\n",
       "      <td>Hampton</td>\n",
       "      <td>#hampton</td>\n",
       "      <td>2015-09-22</td>\n",
       "      <td>2016-02-06</td>\n",
       "      <td>2016-06-14 19:52:26</td>\n",
       "      <td>2016-06-14 19:52:26</td>\n",
       "      <td>NaN</td>\n",
       "      <td>1</td>\n",
       "      <td>web dev</td>\n",
       "    </tr>\n",
       "  </tbody>\n",
       "</table>\n",
       "</div>"
      ],
      "text/plain": [
       "         date      time     path  user_id  cohort_id            ip     name  \\\n",
       "0  2018-01-26  09:55:03        /        1        8.0  97.105.19.61  Hampton   \n",
       "1  2018-01-26  09:56:02  java-ii        1        8.0  97.105.19.61  Hampton   \n",
       "\n",
       "      slack  start_date    end_date           created_at           updated_at  \\\n",
       "0  #hampton  2015-09-22  2016-02-06  2016-06-14 19:52:26  2016-06-14 19:52:26   \n",
       "1  #hampton  2015-09-22  2016-02-06  2016-06-14 19:52:26  2016-06-14 19:52:26   \n",
       "\n",
       "   deleted_at  program_id program_name  \n",
       "0         NaN           1      web dev  \n",
       "1         NaN           1      web dev  "
      ]
     },
     "execution_count": 4,
     "metadata": {},
     "output_type": "execute_result"
    }
   ],
   "source": [
    "df[\"program_name\"] = np.where(df[\"program_id\"] == 3, \"data science\", \"web dev\")\n",
    "df.head(2)"
   ]
  },
  {
   "cell_type": "code",
   "execution_count": 5,
   "metadata": {},
   "outputs": [
    {
     "data": {
      "text/html": [
       "<div>\n",
       "<style scoped>\n",
       "    .dataframe tbody tr th:only-of-type {\n",
       "        vertical-align: middle;\n",
       "    }\n",
       "\n",
       "    .dataframe tbody tr th {\n",
       "        vertical-align: top;\n",
       "    }\n",
       "\n",
       "    .dataframe thead th {\n",
       "        text-align: right;\n",
       "    }\n",
       "</style>\n",
       "<table border=\"1\" class=\"dataframe\">\n",
       "  <thead>\n",
       "    <tr style=\"text-align: right;\">\n",
       "      <th></th>\n",
       "      <th>date</th>\n",
       "      <th>time</th>\n",
       "      <th>path</th>\n",
       "      <th>user_id</th>\n",
       "      <th>cohort_id</th>\n",
       "      <th>ip</th>\n",
       "      <th>name</th>\n",
       "      <th>slack</th>\n",
       "      <th>start_date</th>\n",
       "      <th>end_date</th>\n",
       "      <th>created_at</th>\n",
       "      <th>updated_at</th>\n",
       "      <th>deleted_at</th>\n",
       "      <th>program_id</th>\n",
       "      <th>program_name</th>\n",
       "      <th>date_time</th>\n",
       "    </tr>\n",
       "  </thead>\n",
       "  <tbody>\n",
       "    <tr>\n",
       "      <th>0</th>\n",
       "      <td>2018-01-26</td>\n",
       "      <td>09:55:03</td>\n",
       "      <td>/</td>\n",
       "      <td>1</td>\n",
       "      <td>8.0</td>\n",
       "      <td>97.105.19.61</td>\n",
       "      <td>Hampton</td>\n",
       "      <td>#hampton</td>\n",
       "      <td>2015-09-22</td>\n",
       "      <td>2016-02-06</td>\n",
       "      <td>2016-06-14 19:52:26</td>\n",
       "      <td>2016-06-14 19:52:26</td>\n",
       "      <td>NaN</td>\n",
       "      <td>1</td>\n",
       "      <td>web dev</td>\n",
       "      <td>2018-01-26 09:55:03</td>\n",
       "    </tr>\n",
       "    <tr>\n",
       "      <th>1</th>\n",
       "      <td>2018-01-26</td>\n",
       "      <td>09:56:02</td>\n",
       "      <td>java-ii</td>\n",
       "      <td>1</td>\n",
       "      <td>8.0</td>\n",
       "      <td>97.105.19.61</td>\n",
       "      <td>Hampton</td>\n",
       "      <td>#hampton</td>\n",
       "      <td>2015-09-22</td>\n",
       "      <td>2016-02-06</td>\n",
       "      <td>2016-06-14 19:52:26</td>\n",
       "      <td>2016-06-14 19:52:26</td>\n",
       "      <td>NaN</td>\n",
       "      <td>1</td>\n",
       "      <td>web dev</td>\n",
       "      <td>2018-01-26 09:56:02</td>\n",
       "    </tr>\n",
       "  </tbody>\n",
       "</table>\n",
       "</div>"
      ],
      "text/plain": [
       "         date      time     path  user_id  cohort_id            ip     name  \\\n",
       "0  2018-01-26  09:55:03        /        1        8.0  97.105.19.61  Hampton   \n",
       "1  2018-01-26  09:56:02  java-ii        1        8.0  97.105.19.61  Hampton   \n",
       "\n",
       "      slack  start_date    end_date           created_at           updated_at  \\\n",
       "0  #hampton  2015-09-22  2016-02-06  2016-06-14 19:52:26  2016-06-14 19:52:26   \n",
       "1  #hampton  2015-09-22  2016-02-06  2016-06-14 19:52:26  2016-06-14 19:52:26   \n",
       "\n",
       "   deleted_at  program_id program_name           date_time  \n",
       "0         NaN           1      web dev 2018-01-26 09:55:03  \n",
       "1         NaN           1      web dev 2018-01-26 09:56:02  "
      ]
     },
     "execution_count": 5,
     "metadata": {},
     "output_type": "execute_result"
    }
   ],
   "source": [
    "df[\"date_time\"] = pd.to_datetime(df['date'] + \" \" + df['time'])\n",
    "df.head(2)"
   ]
  },
  {
   "cell_type": "code",
   "execution_count": 6,
   "metadata": {},
   "outputs": [
    {
     "data": {
      "text/html": [
       "<div>\n",
       "<style scoped>\n",
       "    .dataframe tbody tr th:only-of-type {\n",
       "        vertical-align: middle;\n",
       "    }\n",
       "\n",
       "    .dataframe tbody tr th {\n",
       "        vertical-align: top;\n",
       "    }\n",
       "\n",
       "    .dataframe thead th {\n",
       "        text-align: right;\n",
       "    }\n",
       "</style>\n",
       "<table border=\"1\" class=\"dataframe\">\n",
       "  <thead>\n",
       "    <tr style=\"text-align: right;\">\n",
       "      <th></th>\n",
       "      <th>path</th>\n",
       "      <th>user_id</th>\n",
       "      <th>cohort_id</th>\n",
       "      <th>ip</th>\n",
       "      <th>name</th>\n",
       "      <th>slack</th>\n",
       "      <th>start_date</th>\n",
       "      <th>end_date</th>\n",
       "      <th>created_at</th>\n",
       "      <th>updated_at</th>\n",
       "      <th>deleted_at</th>\n",
       "      <th>program_id</th>\n",
       "      <th>program_name</th>\n",
       "    </tr>\n",
       "    <tr>\n",
       "      <th>date_time</th>\n",
       "      <th></th>\n",
       "      <th></th>\n",
       "      <th></th>\n",
       "      <th></th>\n",
       "      <th></th>\n",
       "      <th></th>\n",
       "      <th></th>\n",
       "      <th></th>\n",
       "      <th></th>\n",
       "      <th></th>\n",
       "      <th></th>\n",
       "      <th></th>\n",
       "      <th></th>\n",
       "    </tr>\n",
       "  </thead>\n",
       "  <tbody>\n",
       "    <tr>\n",
       "      <th>2018-01-26 09:55:03</th>\n",
       "      <td>/</td>\n",
       "      <td>1</td>\n",
       "      <td>8.0</td>\n",
       "      <td>97.105.19.61</td>\n",
       "      <td>Hampton</td>\n",
       "      <td>#hampton</td>\n",
       "      <td>2015-09-22</td>\n",
       "      <td>2016-02-06</td>\n",
       "      <td>2016-06-14 19:52:26</td>\n",
       "      <td>2016-06-14 19:52:26</td>\n",
       "      <td>NaN</td>\n",
       "      <td>1</td>\n",
       "      <td>web dev</td>\n",
       "    </tr>\n",
       "    <tr>\n",
       "      <th>2018-01-26 09:56:02</th>\n",
       "      <td>java-ii</td>\n",
       "      <td>1</td>\n",
       "      <td>8.0</td>\n",
       "      <td>97.105.19.61</td>\n",
       "      <td>Hampton</td>\n",
       "      <td>#hampton</td>\n",
       "      <td>2015-09-22</td>\n",
       "      <td>2016-02-06</td>\n",
       "      <td>2016-06-14 19:52:26</td>\n",
       "      <td>2016-06-14 19:52:26</td>\n",
       "      <td>NaN</td>\n",
       "      <td>1</td>\n",
       "      <td>web dev</td>\n",
       "    </tr>\n",
       "  </tbody>\n",
       "</table>\n",
       "</div>"
      ],
      "text/plain": [
       "                        path  user_id  cohort_id            ip     name  \\\n",
       "date_time                                                                 \n",
       "2018-01-26 09:55:03        /        1        8.0  97.105.19.61  Hampton   \n",
       "2018-01-26 09:56:02  java-ii        1        8.0  97.105.19.61  Hampton   \n",
       "\n",
       "                        slack  start_date    end_date           created_at  \\\n",
       "date_time                                                                    \n",
       "2018-01-26 09:55:03  #hampton  2015-09-22  2016-02-06  2016-06-14 19:52:26   \n",
       "2018-01-26 09:56:02  #hampton  2015-09-22  2016-02-06  2016-06-14 19:52:26   \n",
       "\n",
       "                              updated_at  deleted_at  program_id program_name  \n",
       "date_time                                                                      \n",
       "2018-01-26 09:55:03  2016-06-14 19:52:26         NaN           1      web dev  \n",
       "2018-01-26 09:56:02  2016-06-14 19:52:26         NaN           1      web dev  "
      ]
     },
     "execution_count": 6,
     "metadata": {},
     "output_type": "execute_result"
    }
   ],
   "source": [
    "df = df.set_index(df[\"date_time\"]).drop([\"date\", \"time\", \"date_time\"], axis=1)\n",
    "df.head(2)"
   ]
  },
  {
   "cell_type": "markdown",
   "metadata": {},
   "source": [
    "1. Which lesson appears to attract the most traffic consistently across cohorts (per program)?\n"
   ]
  },
  {
   "cell_type": "code",
   "execution_count": null,
   "metadata": {},
   "outputs": [],
   "source": []
  },
  {
   "cell_type": "code",
   "execution_count": null,
   "metadata": {},
   "outputs": [],
   "source": []
  },
  {
   "cell_type": "code",
   "execution_count": null,
   "metadata": {},
   "outputs": [],
   "source": []
  },
  {
   "cell_type": "markdown",
   "metadata": {},
   "source": [
    "2. Is there a cohort that referred to a lesson significantly more than other cohorts seemed to gloss over?\n",
    "- These are the top 10 cohorts who accessed the curriculum the most\n",
    "### DONE"
   ]
  },
  {
   "cell_type": "code",
   "execution_count": 39,
   "metadata": {},
   "outputs": [
    {
     "data": {
      "text/html": [
       "<div>\n",
       "<style scoped>\n",
       "    .dataframe tbody tr th:only-of-type {\n",
       "        vertical-align: middle;\n",
       "    }\n",
       "\n",
       "    .dataframe tbody tr th {\n",
       "        vertical-align: top;\n",
       "    }\n",
       "\n",
       "    .dataframe thead th {\n",
       "        text-align: right;\n",
       "    }\n",
       "</style>\n",
       "<table border=\"1\" class=\"dataframe\">\n",
       "  <thead>\n",
       "    <tr style=\"text-align: right;\">\n",
       "      <th></th>\n",
       "      <th>path</th>\n",
       "    </tr>\n",
       "    <tr>\n",
       "      <th>name</th>\n",
       "      <th></th>\n",
       "    </tr>\n",
       "  </thead>\n",
       "  <tbody>\n",
       "    <tr>\n",
       "      <th>Ceres</th>\n",
       "      <td>40730</td>\n",
       "    </tr>\n",
       "    <tr>\n",
       "      <th>Zion</th>\n",
       "      <td>38096</td>\n",
       "    </tr>\n",
       "    <tr>\n",
       "      <th>Jupiter</th>\n",
       "      <td>37109</td>\n",
       "    </tr>\n",
       "    <tr>\n",
       "      <th>Fortuna</th>\n",
       "      <td>36902</td>\n",
       "    </tr>\n",
       "    <tr>\n",
       "      <th>Voyageurs</th>\n",
       "      <td>35636</td>\n",
       "    </tr>\n",
       "    <tr>\n",
       "      <th>Ganymede</th>\n",
       "      <td>33844</td>\n",
       "    </tr>\n",
       "    <tr>\n",
       "      <th>Apex</th>\n",
       "      <td>33568</td>\n",
       "    </tr>\n",
       "    <tr>\n",
       "      <th>Deimos</th>\n",
       "      <td>32888</td>\n",
       "    </tr>\n",
       "    <tr>\n",
       "      <th>Darden</th>\n",
       "      <td>32015</td>\n",
       "    </tr>\n",
       "    <tr>\n",
       "      <th>Teddy</th>\n",
       "      <td>30926</td>\n",
       "    </tr>\n",
       "  </tbody>\n",
       "</table>\n",
       "</div>"
      ],
      "text/plain": [
       "            path\n",
       "name            \n",
       "Ceres      40730\n",
       "Zion       38096\n",
       "Jupiter    37109\n",
       "Fortuna    36902\n",
       "Voyageurs  35636\n",
       "Ganymede   33844\n",
       "Apex       33568\n",
       "Deimos     32888\n",
       "Darden     32015\n",
       "Teddy      30926"
      ]
     },
     "execution_count": 39,
     "metadata": {},
     "output_type": "execute_result"
    }
   ],
   "source": [
    "df[[\"name\", \"path\"]][df[\"name\"] != \"Staff\"].groupby(by=[\"name\"], sort=False).count().nlargest(n=10, columns=\"path\", keep=\"first\")"
   ]
  },
  {
   "cell_type": "code",
   "execution_count": null,
   "metadata": {},
   "outputs": [],
   "source": []
  },
  {
   "cell_type": "code",
   "execution_count": null,
   "metadata": {},
   "outputs": [],
   "source": []
  },
  {
   "cell_type": "markdown",
   "metadata": {},
   "source": [
    "3. Are there students who, when active, hardly access the curriculum? If so, what information do you have about these students?\n",
    "- These students were active students and not staff. These are the 10 students whom accessed the curriculum the fewest\n",
    "### DONE"
   ]
  },
  {
   "cell_type": "code",
   "execution_count": null,
   "metadata": {},
   "outputs": [],
   "source": [
    "was_student = (df.index < df[\"end_date\"]) & (df.index > df[\"start_date\"])\n",
    "not_staff = (df[\"name\"] != \"Staff\")\n",
    "\n",
    "df[[\"user_id\", \"path\"]][was_student & not_staff].groupby(by=[\"user_id\"], sort=False).count().nsmallest(n=10, columns=\"path\", keep=\"first\")"
   ]
  },
  {
   "cell_type": "code",
   "execution_count": null,
   "metadata": {},
   "outputs": [],
   "source": []
  },
  {
   "cell_type": "markdown",
   "metadata": {},
   "source": [
    "4. Is there any suspicious activity, such as users/machines/etc accessing the curriculum who shouldn’t be? Does it appear that any web-scraping is happening? Are there any suspicious IP addresses?\n"
   ]
  },
  {
   "cell_type": "code",
   "execution_count": null,
   "metadata": {},
   "outputs": [],
   "source": []
  },
  {
   "cell_type": "code",
   "execution_count": null,
   "metadata": {},
   "outputs": [],
   "source": []
  },
  {
   "cell_type": "code",
   "execution_count": null,
   "metadata": {},
   "outputs": [],
   "source": []
  },
  {
   "cell_type": "markdown",
   "metadata": {},
   "source": [
    "5. At some point in 2019, the ability for students and alumni to access both curriculums (web dev to ds, ds to web dev) should have been shut off. Do you see any evidence of that happening? Did it happen before?\n"
   ]
  },
  {
   "cell_type": "code",
   "execution_count": null,
   "metadata": {},
   "outputs": [],
   "source": []
  },
  {
   "cell_type": "code",
   "execution_count": null,
   "metadata": {},
   "outputs": [],
   "source": []
  },
  {
   "cell_type": "code",
   "execution_count": null,
   "metadata": {},
   "outputs": [],
   "source": []
  },
  {
   "cell_type": "markdown",
   "metadata": {},
   "source": [
    "6. What topics are grads continuing to reference after graduation and into their jobs (for each program)?\n",
    "- These are the topics by program that got referenced after a student graduated.\n",
    "### DONE"
   ]
  },
  {
   "cell_type": "code",
   "execution_count": 57,
   "metadata": {},
   "outputs": [
    {
     "data": {
      "text/plain": [
       "date_time\n",
       "2018-01-26 09:55:03                                      /\n",
       "2018-01-26 09:56:02                                java-ii\n",
       "2018-01-26 09:56:05    java-ii/object-oriented-programming\n",
       "2018-01-26 09:56:06     slides/object_oriented_programming\n",
       "2018-01-26 10:14:47                                      /\n",
       "                                      ...                 \n",
       "2021-04-21 14:43:09                      jquery/mapbox-api\n",
       "2021-04-21 14:43:10                jquery/ajax/weather-map\n",
       "2021-04-21 14:50:36                                 java-i\n",
       "2021-04-21 14:50:38            java-i/introduction-to-java\n",
       "2021-04-21 16:30:30                               appendix\n",
       "Name: path, Length: 104557, dtype: object"
      ]
     },
     "execution_count": 57,
     "metadata": {},
     "output_type": "execute_result"
    }
   ],
   "source": [
    "df[\"path\"][(df.index > df[\"end_date\"]) & (df[\"program_name\"] == \"web dev\") & (df[\"name\"] != \"Staff\")]"
   ]
  },
  {
   "cell_type": "code",
   "execution_count": 58,
   "metadata": {},
   "outputs": [
    {
     "data": {
      "text/plain": [
       "date_time\n",
       "2020-01-30 08:01:31             1-fundamentals/1.1-intro-to-data-science\n",
       "2020-01-30 08:01:32             1-fundamentals/modern-data-scientist.jpg\n",
       "2020-01-30 08:01:32                 1-fundamentals/AI-ML-DL-timeline.jpg\n",
       "2020-01-31 11:05:04                                                    /\n",
       "2020-01-31 11:05:13             1-fundamentals/1.1-intro-to-data-science\n",
       "                                             ...                        \n",
       "2021-04-21 15:20:12                              classification/overview\n",
       "2021-04-21 15:20:12    classification/classical_programming_vs_machin...\n",
       "2021-04-21 15:20:12             classification/scale_features_or_not.svg\n",
       "2021-04-21 15:20:14                               classification/project\n",
       "2021-04-21 15:20:18                               classification/acquire\n",
       "Name: path, Length: 11544, dtype: object"
      ]
     },
     "execution_count": 58,
     "metadata": {},
     "output_type": "execute_result"
    }
   ],
   "source": [
    "df[\"path\"][(df.index > df[\"end_date\"]) & (df[\"program_name\"] == \"data science\") & (df[\"name\"] != \"Staff\")]"
   ]
  },
  {
   "cell_type": "markdown",
   "metadata": {},
   "source": [
    "7. Which lessons are least accessed?\n",
    "- These are the top 50 least accessed topics, but this can be adjusted based on needs\n",
    "### DONE"
   ]
  },
  {
   "cell_type": "code",
   "execution_count": 50,
   "metadata": {},
   "outputs": [
    {
     "data": {
      "text/plain": [
       "{'appendix/professional-development/post-interview-review-form': 1,\n",
       " 'cli-03-file-paths': 1,\n",
       " 'cli-07-more-topics': 1,\n",
       " 'spring/services': 1,\n",
       " '8-timeseries/1-overview': 1,\n",
       " '8-timeseries/2-intro-to-timeseries': 1,\n",
       " '8-timeseries/3-acquire': 1,\n",
       " '8-timeseries/4-prep': 1,\n",
       " '8-timeseries/6.1-parametric-modeling': 1,\n",
       " '8-timeseries/6.2-prophet': 1,\n",
       " '10-nlp/2-regular-expressions': 1,\n",
       " '10-nlp/exercises': 1,\n",
       " '10-nlp/3-acquire': 1,\n",
       " '11-distributed-ml/3-getting-started': 1,\n",
       " '11-distributed-ml/4-acquire': 1,\n",
       " '11-distributed-ml/6.1-prepare-part-1': 1,\n",
       " '11-distributed-ml/6.2-prepare-part-2': 1,\n",
       " '11-distributed-ml/6.3-prepare-part-3': 1,\n",
       " 'content/html-css/search_index.json': 1,\n",
       " '11-distributed-ml/6.4-prepare-part-4': 1,\n",
       " '11-distributed-ml/8.1-classification': 1,\n",
       " '11-distributed-ml/exercises': 1,\n",
       " 'uploads/598dc43df39e2.jpg': 1,\n",
       " 'register.': 1,\n",
       " 'appendix/extra-exercises': 1,\n",
       " 'appendix/extra-exercises/javascript': 1,\n",
       " '2-stats/4.8-feature-scaling': 1,\n",
       " 'appendix/further-reading/mysql': 1,\n",
       " '2-stats/2.4-more-excel-features': 1,\n",
       " '9-anomaly-detection/time-series-anomaly-detection-part-1': 1,\n",
       " 'cli-02-listing-files': 1,\n",
       " '7-clustering/dbscan': 1,\n",
       " 'objects/math': 1,\n",
       " 'slides/coding_best_practices': 1,\n",
       " 'content/examples/php/Input.php': 1,\n",
       " 'content/examples/constructors-destructors.html': 1,\n",
       " 'ada-python-assessment.html': 1,\n",
       " 'appendix/capstone-workbook/sw-planning.md': 1,\n",
       " '10_Appendix_EntityLabeling': 1,\n",
       " '11.01.03_Summarize.md': 1,\n",
       " '11.02_TransformData.md': 1,\n",
       " 'team-setups': 1,\n",
       " 'cheatsheet.tex': 1,\n",
       " 'logouts': 1,\n",
       " 'python': 1,\n",
       " 'students/743/notes': 1,\n",
       " 'students/743/notes/0': 1,\n",
       " 'students/743/notes/1': 1,\n",
       " 'src': 1,\n",
       " 'help': 1}"
      ]
     },
     "execution_count": 50,
     "metadata": {},
     "output_type": "execute_result"
    }
   ],
   "source": [
    "df1[\"path\"].value_counts(ascending=True).nsmallest(n=50, keep=\"first\").to_dict()"
   ]
  },
  {
   "cell_type": "code",
   "execution_count": null,
   "metadata": {},
   "outputs": [],
   "source": []
  }
 ],
 "metadata": {
  "interpreter": {
   "hash": "3d597f4c481aa0f25dceb95d2a0067e73c0966dcbd003d741d821a7208527ecf"
  },
  "kernelspec": {
   "display_name": "Python 3.9.5 64-bit ('base': conda)",
   "language": "python",
   "name": "python3"
  },
  "language_info": {
   "codemirror_mode": {
    "name": "ipython",
    "version": 3
   },
   "file_extension": ".py",
   "mimetype": "text/x-python",
   "name": "python",
   "nbconvert_exporter": "python",
   "pygments_lexer": "ipython3",
   "version": "3.9.5"
  },
  "orig_nbformat": 4
 },
 "nbformat": 4,
 "nbformat_minor": 2
}
